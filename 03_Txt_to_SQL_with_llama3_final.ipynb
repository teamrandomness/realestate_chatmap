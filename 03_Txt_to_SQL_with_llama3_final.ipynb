{
 "cells": [
  {
   "cell_type": "code",
   "execution_count": 0,
   "metadata": {
    "application/vnd.databricks.v1+cell": {
     "cellMetadata": {
      "byteLimit": 2048000,
      "rowLimit": 10000
     },
     "inputWidgets": {},
     "nuid": "8624fa73-80c4-4e7f-a8b8-c43ff2647df0",
     "showTitle": false,
     "title": ""
    },
    "jupyter": {
     "outputs_hidden": true
    }
   },
   "outputs": [
    {
     "output_type": "stream",
     "name": "stdout",
     "output_type": "stream",
     "text": [
      "\u001B[43mNote: you may need to restart the kernel using dbutils.library.restartPython() to use updated packages.\u001B[0m\nRequirement already satisfied: typing-extensions in /databricks/python3/lib/python3.10/site-packages (4.4.0)\n\u001B[43mNote: you may need to restart the kernel using dbutils.library.restartPython() to use updated packages.\u001B[0m\n\u001B[43mNote: you may need to restart the kernel using dbutils.library.restartPython() to use updated packages.\u001B[0m\nCollecting openai\n  Downloading openai-1.33.0-py3-none-any.whl (325 kB)\n     ━━━━━━━━━━━━━━━━━━━━━━━━━━━━━━━━━━━━━ 325.5/325.5 kB 901.3 kB/s eta 0:00:00\nRequirement already satisfied: sniffio in /databricks/python3/lib/python3.10/site-packages (from openai) (1.2.0)\nCollecting httpx<1,>=0.23.0\n  Downloading httpx-0.27.0-py3-none-any.whl (75 kB)\n     ━━━━━━━━━━━━━━━━━━━━━━━━━━━━━━━━━━━━━━━━ 75.6/75.6 kB 5.7 MB/s eta 0:00:00\nRequirement already satisfied: anyio<5,>=3.5.0 in /databricks/python3/lib/python3.10/site-packages (from openai) (3.5.0)\nCollecting typing-extensions<5,>=4.7\n  Using cached typing_extensions-4.12.2-py3-none-any.whl (37 kB)\nRequirement already satisfied: pydantic<3,>=1.9.0 in /databricks/python3/lib/python3.10/site-packages (from openai) (1.10.6)\nRequirement already satisfied: distro<2,>=1.7.0 in /usr/lib/python3/dist-packages (from openai) (1.7.0)\nCollecting tqdm>4\n  Downloading tqdm-4.66.4-py3-none-any.whl (78 kB)\n     ━━━━━━━━━━━━━━━━━━━━━━━━━━━━━━━━━━━━━━━━ 78.3/78.3 kB 6.1 MB/s eta 0:00:00\nRequirement already satisfied: idna>=2.8 in /databricks/python3/lib/python3.10/site-packages (from anyio<5,>=3.5.0->openai) (3.4)\nRequirement already satisfied: certifi in /databricks/python3/lib/python3.10/site-packages (from httpx<1,>=0.23.0->openai) (2022.12.7)\nCollecting httpcore==1.*\n  Downloading httpcore-1.0.5-py3-none-any.whl (77 kB)\n     ━━━━━━━━━━━━━━━━━━━━━━━━━━━━━━━━━━━━━━━━ 77.9/77.9 kB 5.6 MB/s eta 0:00:00\nCollecting h11<0.15,>=0.13\n  Downloading h11-0.14.0-py3-none-any.whl (58 kB)\n     ━━━━━━━━━━━━━━━━━━━━━━━━━━━━━━━━━━━━━━━━ 58.3/58.3 kB 4.8 MB/s eta 0:00:00\nInstalling collected packages: typing-extensions, tqdm, h11, httpcore, httpx, openai\n  Attempting uninstall: typing-extensions\n    Found existing installation: typing_extensions 4.4.0\n    Not uninstalling typing-extensions at /databricks/python3/lib/python3.10/site-packages, outside environment /local_disk0/.ephemeral_nfs/envs/pythonEnv-e13543b7-e0b5-4edd-a52e-00fbdf5457a7\n    Can't uninstall 'typing_extensions'. No files were found to uninstall.\nSuccessfully installed h11-0.14.0 httpcore-1.0.5 httpx-0.27.0 openai-1.33.0 tqdm-4.66.4 typing-extensions-4.12.2\n\u001B[43mNote: you may need to restart the kernel using dbutils.library.restartPython() to use updated packages.\u001B[0m\n\u001B[43mNote: you may need to restart the kernel using dbutils.library.restartPython() to use updated packages.\u001B[0m\nCollecting sqlparse==0.5.0\n  Using cached sqlparse-0.5.0-py3-none-any.whl (43 kB)\nInstalling collected packages: sqlparse\nSuccessfully installed sqlparse-0.5.0\n\u001B[43mNote: you may need to restart the kernel using dbutils.library.restartPython() to use updated packages.\u001B[0m\n\u001B[43mNote: you may need to restart the kernel using dbutils.library.restartPython() to use updated packages.\u001B[0m\n\u001B[43mNote: you may need to restart the kernel using dbutils.library.restartPython() to use updated packages.\u001B[0m\n"
     ]
    }
   ],
   "source": [
    "\n",
    "%pip install typing-extensions\n",
    "%pip install openai\n",
    "%pip install sqlparse==0.5.0\n",
    "%pip install mlflow>=2.9.0\n",
    "dbutils.library.restartPython()"
   ]
  },
  {
   "cell_type": "markdown",
   "metadata": {
    "application/vnd.databricks.v1+cell": {
     "cellMetadata": {
      "byteLimit": 2048000,
      "rowLimit": 10000
     },
     "inputWidgets": {},
     "nuid": "b38feafd-0ba6-4378-9d45-da2320d7f9b4",
     "showTitle": false,
     "title": ""
    }
   },
   "source": [
    "### Trying to register to MLFlow"
   ]
  },
  {
   "cell_type": "code",
   "execution_count": 0,
   "metadata": {
    "application/vnd.databricks.v1+cell": {
     "cellMetadata": {
      "byteLimit": 2048000,
      "rowLimit": 10000
     },
     "inputWidgets": {},
     "nuid": "f52805a8-b650-4417-9635-3f5255934ddf",
     "showTitle": false,
     "title": ""
    }
   },
   "outputs": [
    {
     "output_type": "stream",
     "name": "stdout",
     "output_type": "stream",
     "text": [
      "\u001B[43mNote: you may need to restart the kernel using dbutils.library.restartPython() to use updated packages.\u001B[0m\nRequirement already satisfied: mlflow[databricks] in /local_disk0/.ephemeral_nfs/envs/pythonEnv-e13543b7-e0b5-4edd-a52e-00fbdf5457a7/lib/python3.10/site-packages (2.13.2)\nRequirement already satisfied: matplotlib<4 in /databricks/python3/lib/python3.10/site-packages (from mlflow[databricks]) (3.7.0)\nRequirement already satisfied: markdown<4,>=3.3 in /local_disk0/.ephemeral_nfs/envs/pythonEnv-e13543b7-e0b5-4edd-a52e-00fbdf5457a7/lib/python3.10/site-packages (from mlflow[databricks]) (3.6)\nRequirement already satisfied: docker<8,>=4.0.0 in /local_disk0/.ephemeral_nfs/envs/pythonEnv-e13543b7-e0b5-4edd-a52e-00fbdf5457a7/lib/python3.10/site-packages (from mlflow[databricks]) (7.1.0)\nRequirement already satisfied: pyarrow<16,>=4.0.0 in /databricks/python3/lib/python3.10/site-packages (from mlflow[databricks]) (8.0.0)\nRequirement already satisfied: alembic!=1.10.0,<2 in /local_disk0/.ephemeral_nfs/envs/pythonEnv-e13543b7-e0b5-4edd-a52e-00fbdf5457a7/lib/python3.10/site-packages (from mlflow[databricks]) (1.13.1)\nRequirement already satisfied: pandas<3 in /databricks/python3/lib/python3.10/site-packages (from mlflow[databricks]) (1.5.3)\nRequirement already satisfied: click<9,>=7.0 in /local_disk0/.ephemeral_nfs/envs/pythonEnv-e13543b7-e0b5-4edd-a52e-00fbdf5457a7/lib/python3.10/site-packages (from mlflow[databricks]) (8.1.7)\nRequirement already satisfied: packaging<25 in /databricks/python3/lib/python3.10/site-packages (from mlflow[databricks]) (23.2)\nRequirement already satisfied: protobuf<5,>=3.12.0 in /databricks/python3/lib/python3.10/site-packages (from mlflow[databricks]) (4.24.0)\nRequirement already satisfied: Flask<4 in /local_disk0/.ephemeral_nfs/envs/pythonEnv-e13543b7-e0b5-4edd-a52e-00fbdf5457a7/lib/python3.10/site-packages (from mlflow[databricks]) (3.0.3)\nRequirement already satisfied: numpy<2 in /databricks/python3/lib/python3.10/site-packages (from mlflow[databricks]) (1.23.5)\nRequirement already satisfied: cloudpickle<4 in /local_disk0/.ephemeral_nfs/envs/pythonEnv-e13543b7-e0b5-4edd-a52e-00fbdf5457a7/lib/python3.10/site-packages (from mlflow[databricks]) (3.0.0)\nRequirement already satisfied: querystring-parser<2 in /local_disk0/.ephemeral_nfs/envs/pythonEnv-e13543b7-e0b5-4edd-a52e-00fbdf5457a7/lib/python3.10/site-packages (from mlflow[databricks]) (1.2.4)\nRequirement already satisfied: sqlalchemy<3,>=1.4.0 in /local_disk0/.ephemeral_nfs/envs/pythonEnv-e13543b7-e0b5-4edd-a52e-00fbdf5457a7/lib/python3.10/site-packages (from mlflow[databricks]) (2.0.30)\nRequirement already satisfied: gitpython<4,>=3.1.9 in /local_disk0/.ephemeral_nfs/envs/pythonEnv-e13543b7-e0b5-4edd-a52e-00fbdf5457a7/lib/python3.10/site-packages (from mlflow[databricks]) (3.1.43)\nRequirement already satisfied: cachetools<6,>=5.0.0 in /local_disk0/.ephemeral_nfs/envs/pythonEnv-e13543b7-e0b5-4edd-a52e-00fbdf5457a7/lib/python3.10/site-packages (from mlflow[databricks]) (5.3.3)\nRequirement already satisfied: pyyaml<7,>=5.1 in /local_disk0/.ephemeral_nfs/envs/pythonEnv-e13543b7-e0b5-4edd-a52e-00fbdf5457a7/lib/python3.10/site-packages (from mlflow[databricks]) (6.0.1)\nRequirement already satisfied: sqlparse<1,>=0.4.0 in /local_disk0/.ephemeral_nfs/envs/pythonEnv-e13543b7-e0b5-4edd-a52e-00fbdf5457a7/lib/python3.10/site-packages (from mlflow[databricks]) (0.5.0)\nRequirement already satisfied: gunicorn<23 in /local_disk0/.ephemeral_nfs/envs/pythonEnv-e13543b7-e0b5-4edd-a52e-00fbdf5457a7/lib/python3.10/site-packages (from mlflow[databricks]) (22.0.0)\nRequirement already satisfied: scipy<2 in /databricks/python3/lib/python3.10/site-packages (from mlflow[databricks]) (1.10.0)\nRequirement already satisfied: graphene<4 in /local_disk0/.ephemeral_nfs/envs/pythonEnv-e13543b7-e0b5-4edd-a52e-00fbdf5457a7/lib/python3.10/site-packages (from mlflow[databricks]) (3.3)\nRequirement already satisfied: importlib-metadata!=4.7.0,<8,>=3.7.0 in /local_disk0/.ephemeral_nfs/envs/pythonEnv-e13543b7-e0b5-4edd-a52e-00fbdf5457a7/lib/python3.10/site-packages (from mlflow[databricks]) (7.1.0)\nRequirement already satisfied: scikit-learn<2 in /databricks/python3/lib/python3.10/site-packages (from mlflow[databricks]) (1.1.1)\nRequirement already satisfied: opentelemetry-api<3,>=1.0.0 in /local_disk0/.ephemeral_nfs/envs/pythonEnv-e13543b7-e0b5-4edd-a52e-00fbdf5457a7/lib/python3.10/site-packages (from mlflow[databricks]) (1.25.0)\nRequirement already satisfied: opentelemetry-sdk<3,>=1.0.0 in /local_disk0/.ephemeral_nfs/envs/pythonEnv-e13543b7-e0b5-4edd-a52e-00fbdf5457a7/lib/python3.10/site-packages (from mlflow[databricks]) (1.25.0)\nRequirement already satisfied: pytz<2025 in /databricks/python3/lib/python3.10/site-packages (from mlflow[databricks]) (2022.7)\nRequirement already satisfied: entrypoints<1 in /databricks/python3/lib/python3.10/site-packages (from mlflow[databricks]) (0.4)\nRequirement already satisfied: Jinja2<4,>=2.11 in /databricks/python3/lib/python3.10/site-packages (from mlflow[databricks]) (3.1.2)\nRequirement already satisfied: requests<3,>=2.17.3 in /databricks/python3/lib/python3.10/site-packages (from mlflow[databricks]) (2.28.1)\nRequirement already satisfied: botocore in /databricks/python3/lib/python3.10/site-packages (from mlflow[databricks]) (1.27.96)\nRequirement already satisfied: boto3>1 in /databricks/python3/lib/python3.10/site-packages (from mlflow[databricks]) (1.24.28)\nCollecting google-cloud-storage>=1.30.0\n  Using cached google_cloud_storage-2.16.0-py2.py3-none-any.whl (125 kB)\nCollecting azure-storage-file-datalake>12\n  Using cached azure_storage_file_datalake-12.15.0-py3-none-any.whl (254 kB)\nRequirement already satisfied: typing-extensions>=4 in /local_disk0/.ephemeral_nfs/envs/pythonEnv-e13543b7-e0b5-4edd-a52e-00fbdf5457a7/lib/python3.10/site-packages (from alembic!=1.10.0,<2->mlflow[databricks]) (4.12.2)\nRequirement already satisfied: Mako in /local_disk0/.ephemeral_nfs/envs/pythonEnv-e13543b7-e0b5-4edd-a52e-00fbdf5457a7/lib/python3.10/site-packages (from alembic!=1.10.0,<2->mlflow[databricks]) (1.3.5)\nCollecting isodate>=0.6.1\n  Using cached isodate-0.6.1-py2.py3-none-any.whl (41 kB)\nCollecting azure-core>=1.28.0\n  Using cached azure_core-1.30.2-py3-none-any.whl (194 kB)\nCollecting azure-storage-blob>=12.20.0\n  Using cached azure_storage_blob-12.20.0-py3-none-any.whl (392 kB)\nRequirement already satisfied: s3transfer<0.7.0,>=0.6.0 in /databricks/python3/lib/python3.10/site-packages (from boto3>1->mlflow[databricks]) (0.6.2)\nRequirement already satisfied: jmespath<2.0.0,>=0.7.1 in /databricks/python3/lib/python3.10/site-packages (from boto3>1->mlflow[databricks]) (0.10.0)\nRequirement already satisfied: python-dateutil<3.0.0,>=2.1 in /databricks/python3/lib/python3.10/site-packages (from botocore->mlflow[databricks]) (2.8.2)\nRequirement already satisfied: urllib3<1.27,>=1.25.4 in /databricks/python3/lib/python3.10/site-packages (from botocore->mlflow[databricks]) (1.26.14)\nRequirement already satisfied: itsdangerous>=2.1.2 in /local_disk0/.ephemeral_nfs/envs/pythonEnv-e13543b7-e0b5-4edd-a52e-00fbdf5457a7/lib/python3.10/site-packages (from Flask<4->mlflow[databricks]) (2.2.0)\nRequirement already satisfied: blinker>=1.6.2 in /local_disk0/.ephemeral_nfs/envs/pythonEnv-e13543b7-e0b5-4edd-a52e-00fbdf5457a7/lib/python3.10/site-packages (from Flask<4->mlflow[databricks]) (1.8.2)\nRequirement already satisfied: Werkzeug>=3.0.0 in /local_disk0/.ephemeral_nfs/envs/pythonEnv-e13543b7-e0b5-4edd-a52e-00fbdf5457a7/lib/python3.10/site-packages (from Flask<4->mlflow[databricks]) (3.0.3)\nRequirement already satisfied: gitdb<5,>=4.0.1 in /local_disk0/.ephemeral_nfs/envs/pythonEnv-e13543b7-e0b5-4edd-a52e-00fbdf5457a7/lib/python3.10/site-packages (from gitpython<4,>=3.1.9->mlflow[databricks]) (4.0.11)\nCollecting google-auth<3.0dev,>=2.26.1\n  Using cached google_auth-2.30.0-py2.py3-none-any.whl (193 kB)\nCollecting google-api-core<3.0.0dev,>=2.15.0\n  Using cached google_api_core-2.19.0-py3-none-any.whl (139 kB)\nCollecting google-crc32c<2.0dev,>=1.0\n  Using cached google_crc32c-1.5.0-cp310-cp310-manylinux_2_17_x86_64.manylinux2014_x86_64.whl (32 kB)\nCollecting google-resumable-media>=2.6.0\n  Using cached google_resumable_media-2.7.0-py2.py3-none-any.whl (80 kB)\nCollecting google-cloud-core<3.0dev,>=2.3.0\n  Using cached google_cloud_core-2.4.1-py2.py3-none-any.whl (29 kB)\nRequirement already satisfied: aniso8601<10,>=8 in /local_disk0/.ephemeral_nfs/envs/pythonEnv-e13543b7-e0b5-4edd-a52e-00fbdf5457a7/lib/python3.10/site-packages (from graphene<4->mlflow[databricks]) (9.0.1)\nRequirement already satisfied: graphql-core<3.3,>=3.1 in /local_disk0/.ephemeral_nfs/envs/pythonEnv-e13543b7-e0b5-4edd-a52e-00fbdf5457a7/lib/python3.10/site-packages (from graphene<4->mlflow[databricks]) (3.2.3)\nRequirement already satisfied: graphql-relay<3.3,>=3.1 in /local_disk0/.ephemeral_nfs/envs/pythonEnv-e13543b7-e0b5-4edd-a52e-00fbdf5457a7/lib/python3.10/site-packages (from graphene<4->mlflow[databricks]) (3.2.0)\nRequirement already satisfied: zipp>=0.5 in /usr/lib/python3/dist-packages (from importlib-metadata!=4.7.0,<8,>=3.7.0->mlflow[databricks]) (1.0.0)\nRequirement already satisfied: MarkupSafe>=2.0 in /databricks/python3/lib/python3.10/site-packages (from Jinja2<4,>=2.11->mlflow[databricks]) (2.1.1)\nRequirement already satisfied: cycler>=0.10 in /databricks/python3/lib/python3.10/site-packages (from matplotlib<4->mlflow[databricks]) (0.11.0)\nRequirement already satisfied: fonttools>=4.22.0 in /databricks/python3/lib/python3.10/site-packages (from matplotlib<4->mlflow[databricks]) (4.25.0)\nRequirement already satisfied: kiwisolver>=1.0.1 in /databricks/python3/lib/python3.10/site-packages (from matplotlib<4->mlflow[databricks]) (1.4.4)\nRequirement already satisfied: contourpy>=1.0.1 in /databricks/python3/lib/python3.10/site-packages (from matplotlib<4->mlflow[databricks]) (1.0.5)\nRequirement already satisfied: pillow>=6.2.0 in /databricks/python3/lib/python3.10/site-packages (from matplotlib<4->mlflow[databricks]) (9.4.0)\nRequirement already satisfied: pyparsing>=2.3.1 in /databricks/python3/lib/python3.10/site-packages (from matplotlib<4->mlflow[databricks]) (3.0.9)\nRequirement already satisfied: deprecated>=1.2.6 in /local_disk0/.ephemeral_nfs/envs/pythonEnv-e13543b7-e0b5-4edd-a52e-00fbdf5457a7/lib/python3.10/site-packages (from opentelemetry-api<3,>=1.0.0->mlflow[databricks]) (1.2.14)\nRequirement already satisfied: opentelemetry-semantic-conventions==0.46b0 in /local_disk0/.ephemeral_nfs/envs/pythonEnv-e13543b7-e0b5-4edd-a52e-00fbdf5457a7/lib/python3.10/site-packages (from opentelemetry-sdk<3,>=1.0.0->mlflow[databricks]) (0.46b0)\nRequirement already satisfied: six in /usr/lib/python3/dist-packages (from querystring-parser<2->mlflow[databricks]) (1.16.0)\nRequirement already satisfied: charset-normalizer<3,>=2 in /databricks/python3/lib/python3.10/site-packages (from requests<3,>=2.17.3->mlflow[databricks]) (2.0.4)\nRequirement already satisfied: certifi>=2017.4.17 in /databricks/python3/lib/python3.10/site-packages (from requests<3,>=2.17.3->mlflow[databricks]) (2022.12.7)\nRequirement already satisfied: idna<4,>=2.5 in /databricks/python3/lib/python3.10/site-packages (from requests<3,>=2.17.3->mlflow[databricks]) (3.4)\nRequirement already satisfied: threadpoolctl>=2.0.0 in /databricks/python3/lib/python3.10/site-packages (from scikit-learn<2->mlflow[databricks]) (2.2.0)\nRequirement already satisfied: joblib>=1.0.0 in /databricks/python3/lib/python3.10/site-packages (from scikit-learn<2->mlflow[databricks]) (1.2.0)\nRequirement already satisfied: greenlet!=0.4.17 in /local_disk0/.ephemeral_nfs/envs/pythonEnv-e13543b7-e0b5-4edd-a52e-00fbdf5457a7/lib/python3.10/site-packages (from sqlalchemy<3,>=1.4.0->mlflow[databricks]) (3.0.3)\nRequirement already satisfied: cryptography>=2.1.4 in /databricks/python3/lib/python3.10/site-packages (from azure-storage-blob>=12.20.0->azure-storage-file-datalake>12->mlflow[databricks]) (39.0.1)\nRequirement already satisfied: wrapt<2,>=1.10 in /local_disk0/.ephemeral_nfs/envs/pythonEnv-e13543b7-e0b5-4edd-a52e-00fbdf5457a7/lib/python3.10/site-packages (from deprecated>=1.2.6->opentelemetry-api<3,>=1.0.0->mlflow[databricks]) (1.16.0)\nRequirement already satisfied: smmap<6,>=3.0.1 in /local_disk0/.ephemeral_nfs/envs/pythonEnv-e13543b7-e0b5-4edd-a52e-00fbdf5457a7/lib/python3.10/site-packages (from gitdb<5,>=4.0.1->gitpython<4,>=3.1.9->mlflow[databricks]) (5.0.1)\nRequirement already satisfied: googleapis-common-protos<2.0.dev0,>=1.56.2 in /databricks/python3/lib/python3.10/site-packages (from google-api-core<3.0.0dev,>=2.15.0->google-cloud-storage>=1.30.0->mlflow[databricks]) (1.62.0)\nCollecting proto-plus<2.0.0dev,>=1.22.3\n  Using cached proto_plus-1.23.0-py3-none-any.whl (48 kB)\nCollecting rsa<5,>=3.1.4\n  Using cached rsa-4.9-py3-none-any.whl (34 kB)\nCollecting pyasn1-modules>=0.2.1\n  Using cached pyasn1_modules-0.4.0-py3-none-any.whl (181 kB)\nRequirement already satisfied: cffi>=1.12 in /databricks/python3/lib/python3.10/site-packages (from cryptography>=2.1.4->azure-storage-blob>=12.20.0->azure-storage-file-datalake>12->mlflow[databricks]) (1.15.1)\nCollecting pyasn1<0.7.0,>=0.4.6\n  Using cached pyasn1-0.6.0-py2.py3-none-any.whl (85 kB)\nRequirement already satisfied: pycparser in /databricks/python3/lib/python3.10/site-packages (from cffi>=1.12->cryptography>=2.1.4->azure-storage-blob>=12.20.0->azure-storage-file-datalake>12->mlflow[databricks]) (2.21)\nInstalling collected packages: pyasn1, proto-plus, isodate, google-crc32c, rsa, pyasn1-modules, google-resumable-media, azure-core, google-auth, azure-storage-blob, google-api-core, azure-storage-file-datalake, google-cloud-core, google-cloud-storage\nSuccessfully installed azure-core-1.30.2 azure-storage-blob-12.20.0 azure-storage-file-datalake-12.15.0 google-api-core-2.19.0 google-auth-2.30.0 google-cloud-core-2.4.1 google-cloud-storage-2.16.0 google-crc32c-1.5.0 google-resumable-media-2.7.0 isodate-0.6.1 proto-plus-1.23.0 pyasn1-0.6.0 pyasn1-modules-0.4.0 rsa-4.9\n\u001B[43mNote: you may need to restart the kernel using dbutils.library.restartPython() to use updated packages.\u001B[0m\n"
     ]
    }
   ],
   "source": [
    "%pip install mlflow[databricks]\n",
    "import mlflow"
   ]
  },
  {
   "cell_type": "code",
   "execution_count": 0,
   "metadata": {
    "application/vnd.databricks.v1+cell": {
     "cellMetadata": {
      "byteLimit": 2048000,
      "rowLimit": 10000
     },
     "inputWidgets": {},
     "nuid": "429cd64c-63a6-4d96-8d01-81cc97239543",
     "showTitle": false,
     "title": ""
    }
   },
   "outputs": [],
   "source": [
    "# Import the necessary libraries\n",
    "import mlflow\n",
    "from mlflow.pyfunc import PythonModel, ModelSignature\n",
    "from mlflow.types import DataType, Schema\n",
    "import mlflow.pyfunc\n",
    "import mlflow.deployments\n",
    "import os\n",
    "\n",
    "def get_table_schema(table_name, spark_object):\n",
    "    table_schema = spark_object.sql(\"DESCRIBE {}\".format(table_name))\n",
    "    my_schema = table_schema.collect()\n",
    "    return (table_name, my_schema)"
   ]
  },
  {
   "cell_type": "code",
   "execution_count": 0,
   "metadata": {
    "application/vnd.databricks.v1+cell": {
     "cellMetadata": {
      "byteLimit": 2048000,
      "rowLimit": 10000
     },
     "inputWidgets": {},
     "nuid": "be69b332-ea6e-48df-9b23-90d0156b7b12",
     "showTitle": false,
     "title": ""
    }
   },
   "outputs": [],
   "source": [
    "\n",
    "# Define the custom model class for TxtToSQL\n",
    "class TxtToSQLModel(PythonModel):\n",
    "    # Constructor\n",
    "    def __init__(self):\n",
    "        pass\n",
    "\n",
    "    def nl_to_sql(self, client, nl_query, schema):\n",
    "        chat_response = client.predict(\n",
    "            endpoint=\"databricks-meta-llama-3-70b-instruct\",\n",
    "            inputs={\n",
    "                \"messages\": [\n",
    "                    {\"role\": \"system\", \"content\": \"You are an AI assistant\"},\n",
    "                    {\n",
    "                        \"role\": \"user\",\n",
    "                        \"content\": f\"Table schema:\\n{schema}\\n\\nConvert the following natural language query to SQL: {nl_query}\\n\\nSQL: and in the output give only the SQL query without text\",\n",
    "                    },\n",
    "                ],\n",
    "                \"temperature\": 0.1,\n",
    "                \"max_tokens\": 256,\n",
    "            },\n",
    "        )\n",
    "\n",
    "        return chat_response.choices[0]\n",
    "\n",
    "    # Method for loading the model\n",
    "    def load_context(self, context):\n",
    "        pass\n",
    "\n",
    "    \"\"\"\n",
    "    # Method for predicting using the loaded model\n",
    "    def predict(self, model_input):\n",
    "        # Custom prediction logic goes here\n",
    "        pass\n",
    "    \"\"\"\n",
    "    def predict(self, client, message, table_name, spark_object):\n",
    "        table_schema = get_table_schema(table_name, spark_object)\n",
    "        sql_query = self.nl_to_sql(client, message, table_schema)\n",
    "        response = sql_query[\"message\"][\"content\"]\n",
    "        response = response.replace(\"```\", \"\")\n",
    "        #df = spark_object.sql(response)\n",
    "        return response\n",
    "\n",
    "# Create an instance of the custom model\n",
    "txtToSQLModel = TxtToSQLModel()\n",
    "\n",
    "# Model Signature to be added to MLlow registration\n",
    "from mlflow.types import DataType, Schema, ColSpec\n",
    "input_schema = Schema([\n",
    "    ColSpec(\"string\", \"message\"),\n",
    "    ColSpec(\"string\", \"table_name\")\n",
    "])\n",
    "output_schema = Schema([\n",
    "    ColSpec(\"string\", \"sql_query\")\n",
    "])\n",
    "model_signature = ModelSignature(\n",
    "    inputs=input_schema,\n",
    "    outputs=output_schema\n",
    ")\n",
    "\n",
    "# # Log the model with MLflow\n",
    "# mlflow.pyfunc.log_model(\n",
    "#     \"my_custom_model\",\n",
    "#     python_model=txtToSQLModel,\n",
    "#     artifacts={},\n",
    "#     signature=model_signature,\n",
    "#     # registered_model_name=\"workspace.default.txt_to_sql_llama3\",\n",
    "# )"
   ]
  },
  {
   "cell_type": "code",
   "execution_count": 0,
   "metadata": {
    "application/vnd.databricks.v1+cell": {
     "cellMetadata": {
      "byteLimit": 2048000,
      "rowLimit": 10000
     },
     "inputWidgets": {},
     "nuid": "17f679ef-e932-4a05-aeec-15aaf74172d5",
     "showTitle": false,
     "title": ""
    }
   },
   "outputs": [],
   "source": [
    "\n",
    "# Define the custom model class for TxtToSQL\n",
    "class DefineTxtQuery(PythonModel):\n",
    "    # Constructor\n",
    "    def __init__(self):\n",
    "        pass\n",
    "\n",
    "    def nl_to_sql(self, client, nl_query, schema):\n",
    "        chat_response = client.predict(\n",
    "            endpoint=\"databricks-meta-llama-3-70b-instruct\",\n",
    "            inputs={\n",
    "                \"messages\": [\n",
    "                    {\"role\": \"system\", \"content\": \"You are an AI assistant\"},\n",
    "                    {\n",
    "                        \"role\": \"user\",\n",
    "                        \"content\": f\"From the table having schema :\\n{schema}\\n\\nWhat would you look at to answer this question : {nl_query}\\n\\n Give an answer that contains simple statements looking like natural language queries\",\n",
    "                    },\n",
    "                ],\n",
    "                \"temperature\": 0.1,\n",
    "                \"max_tokens\": 256,\n",
    "            },\n",
    "        )\n",
    "\n",
    "        return chat_response.choices[0]\n",
    "\n",
    "    # Method for loading the model\n",
    "    def load_context(self, context):\n",
    "        pass\n",
    "\n",
    "    \"\"\"\n",
    "    # Method for predicting using the loaded model\n",
    "    def predict(self, model_input):\n",
    "        # Custom prediction logic goes here\n",
    "        pass\n",
    "    \"\"\"\n",
    "    def predict(self, client, message, table_name, spark_object):\n",
    "        table_schema = get_table_schema(table_name, spark_object)\n",
    "        sql_query = self.nl_to_sql(client, message, table_schema)\n",
    "        response = sql_query[\"message\"][\"content\"]\n",
    "        response = response.replace(\"```\", \"\")\n",
    "        #df = spark_object.sql(response)\n",
    "        return response\n",
    "\n",
    "# Create an instance of the custom model\n",
    "defineTxtQueryModel = DefineTxtQuery()\n",
    "\n",
    "# Model Signature to be added to MLlow registration\n",
    "from mlflow.types import DataType, Schema, ColSpec\n",
    "input_schema = Schema([\n",
    "    ColSpec(\"string\", \"message\"),\n",
    "    ColSpec(\"string\", \"table_name\")\n",
    "])\n",
    "output_schema = Schema([\n",
    "    ColSpec(\"string\", \"sql_query\")\n",
    "])\n",
    "model_signature = ModelSignature(\n",
    "    inputs=input_schema,\n",
    "    outputs=output_schema\n",
    ")\n",
    "\n",
    "# # Log the model with MLflow\n",
    "# mlflow.pyfunc.log_model(\n",
    "#     \"my_custom_model\",\n",
    "#     python_model=defineTxtQueryModel,\n",
    "#     artifacts={},\n",
    "#     signature=model_signature,\n",
    "#     registered_model_name=\"workspace.default.define_txt_query_llama\",\n",
    "# )"
   ]
  },
  {
   "cell_type": "markdown",
   "metadata": {
    "application/vnd.databricks.v1+cell": {
     "cellMetadata": {
      "byteLimit": 2048000,
      "rowLimit": 10000
     },
     "inputWidgets": {},
     "nuid": "bc18c077-6c83-4dbe-ab05-849b4c6ed12e",
     "showTitle": false,
     "title": ""
    }
   },
   "source": [
    "### Testing the Model \n"
   ]
  },
  {
   "cell_type": "code",
   "execution_count": 0,
   "metadata": {
    "application/vnd.databricks.v1+cell": {
     "cellMetadata": {
      "byteLimit": 2048000,
      "rowLimit": 10000
     },
     "collapsed": true,
     "inputWidgets": {},
     "nuid": "6f89391f-db43-4b17-a72c-9bedcc95c6b4",
     "showTitle": false,
     "title": ""
    }
   },
   "outputs": [],
   "source": [
    "client = mlflow.deployments.get_deploy_client(\"databricks\")"
   ]
  },
  {
   "cell_type": "markdown",
   "metadata": {
    "application/vnd.databricks.v1+cell": {
     "cellMetadata": {
      "byteLimit": 2048000,
      "rowLimit": 10000
     },
     "inputWidgets": {},
     "nuid": "38783175-de21-4224-9bf0-e2afb6be7897",
     "showTitle": false,
     "title": ""
    }
   },
   "source": [
    "## 1st step ask a generic question, an agent will define how to solve this with the data that we have at hand"
   ]
  },
  {
   "cell_type": "code",
   "execution_count": 0,
   "metadata": {
    "application/vnd.databricks.v1+cell": {
     "cellMetadata": {
      "byteLimit": 2048000,
      "rowLimit": 10000
     },
     "inputWidgets": {},
     "nuid": "33976581-e863-4a4a-89ca-17b7cad5fa9a",
     "showTitle": false,
     "title": ""
    }
   },
   "outputs": [
    {
     "output_type": "stream",
     "name": "stdout",
     "output_type": "stream",
     "text": [
      "To answer this question, I would look at the following columns:\n\n* TIMESTAMP: to filter for dates past 2023\n* BATHROOMS: to filter for houses with more than 2 bathrooms\n* PRICE: to find the cheapest options\n* LATITUDE and LONGITUDE: to keep these columns in the result\n\nHere's a natural language query that summarizes the requirements:\n\n\"Show me the houses with more than 2 bathrooms, listed after 2023, sorted by price from lowest to highest, and include their latitude and longitude.\"\n\nIn SQL, this would translate to:\nsql\nSELECT *\nFROM bright_data_real_estate_listings.datasets.zillow_properties\nWHERE TIMESTAMP >= '2023-01-01' \n  AND BATHROOMS > 2 \n  AND PRICE IS NOT NULL \nORDER BY PRICE ASC;\n\nNote that I added `PRICE IS NOT NULL` to ensure we only consider houses with a valid price.\n"
     ]
    }
   ],
   "source": [
    "query = defineTxtQueryModel.predict(client, \"What is the cheapest place to buy a house past the date timestamp year 2023 for a familiy having more than 2 bathrooms? Always Keep the Latitude and Longitude columns.\", \"bright_data_real_estate_listings.datasets.zillow_properties\", spark)\n",
    "\n",
    "print(query)"
   ]
  },
  {
   "cell_type": "markdown",
   "metadata": {
    "application/vnd.databricks.v1+cell": {
     "cellMetadata": {
      "byteLimit": 2048000,
      "rowLimit": 10000
     },
     "inputWidgets": {},
     "nuid": "2e7bd188-1f23-4815-b963-c65bf09f0a88",
     "showTitle": false,
     "title": ""
    }
   },
   "source": [
    "## 2nd step get you answer transformed into sql "
   ]
  },
  {
   "cell_type": "code",
   "execution_count": 0,
   "metadata": {
    "application/vnd.databricks.v1+cell": {
     "cellMetadata": {
      "byteLimit": 2048000,
      "rowLimit": 10000
     },
     "inputWidgets": {},
     "nuid": "528ea461-6570-4ef9-aec2-5cc8bb022ed9",
     "showTitle": false,
     "title": ""
    }
   },
   "outputs": [
    {
     "output_type": "stream",
     "name": "stdout",
     "output_type": "stream",
     "text": [
      "SELECT *\nFROM bright_data_real_estate_listings.datasets.zillow_properties\nWHERE TIMESTAMP >= '2023-01-01' \n  AND BATHROOMS > 2 \n  AND PRICE IS NOT NULL \nORDER BY PRICE ASC;\n"
     ]
    }
   ],
   "source": [
    "\n",
    "result = txtToSQLModel.predict(client, query, \"bright_data_real_estate_listings.datasets.zillow_properties\", spark)\n",
    "\n",
    "print(result)\n"
   ]
  },
  {
   "cell_type": "markdown",
   "metadata": {
    "application/vnd.databricks.v1+cell": {
     "cellMetadata": {
      "byteLimit": 2048000,
      "rowLimit": 10000
     },
     "inputWidgets": {},
     "nuid": "0ecc8609-f995-4663-85b9-789715774cd3",
     "showTitle": false,
     "title": ""
    }
   },
   "source": [
    "## 3rd step : get the query executed "
   ]
  },
  {
   "cell_type": "code",
   "execution_count": 0,
   "metadata": {
    "application/vnd.databricks.v1+cell": {
     "cellMetadata": {
      "byteLimit": 2048000,
      "rowLimit": 10000
     },
     "inputWidgets": {},
     "nuid": "9c0eaab6-8744-4bbe-8228-bf8fee46bc8d",
     "showTitle": false,
     "title": ""
    }
   },
   "outputs": [
    {
     "output_type": "display_data",
     "data": {
      "text/html": [
       "<style scoped>\n",
       "  .table-result-container {\n",
       "    max-height: 300px;\n",
       "    overflow: auto;\n",
       "  }\n",
       "  table, th, td {\n",
       "    border: 1px solid black;\n",
       "    border-collapse: collapse;\n",
       "  }\n",
       "  th, td {\n",
       "    padding: 5px;\n",
       "  }\n",
       "  th {\n",
       "    text-align: left;\n",
       "  }\n",
       "</style><div class='table-result-container'><table class='table-result'><thead style='background-color: white'><tr><th>City</th><th>LATITUDE</th><th>LONGITUDE</th><th>PRICE</th></tr></thead><tbody><tr><td>Tyler</td><td>32.32733</td><td>-95.192955</td><td>0.0</td></tr><tr><td>South Egremont</td><td>42.141712</td><td>-73.41186</td><td>995000.0</td></tr><tr><td>Harrisburg</td><td>40.339207</td><td>-76.73647</td><td>348990.0</td></tr><tr><td>Springfield</td><td>37.66069</td><td>-85.25994</td><td>899900.0</td></tr><tr><td>Corona</td><td>33.963272</td><td>-117.60413</td><td>990000.0</td></tr><tr><td>Lawrenceville</td><td>33.982054</td><td>-84.02543750000001</td><td>421000.0</td></tr><tr><td>Wellington</td><td>26.640866666666668</td><td>-80.23280466666667</td><td>1233400.0</td></tr><tr><td>North Las Vegas</td><td>36.30251</td><td>-115.16812</td><td>566340.0</td></tr><tr><td>Auburn</td><td>34.056335</td><td>-83.799805</td><td>1699000.0</td></tr><tr><td>Harrison</td><td>40.9881</td><td>-73.71914</td><td>2995000.0</td></tr><tr><td>Plainfield</td><td>41.64775</td><td>-88.21316</td><td>477599.0</td></tr><tr><td>Georgetown</td><td>38.25894</td><td>-84.5196</td><td>483800.0</td></tr><tr><td>Brunswick</td><td>31.13863</td><td>-81.49299</td><td>335000.0</td></tr><tr><td>Hollywood</td><td>25.99451</td><td>-80.379684</td><td>1225000.0</td></tr><tr><td>Crescent City</td><td>41.752483</td><td>-124.20798</td><td>460000.0</td></tr><tr><td>McDonough</td><td>33.469124</td><td>-84.18112</td><td>365000.0</td></tr><tr><td>Spring Branch</td><td>29.835382</td><td>-98.37462</td><td>849900.0</td></tr><tr><td>Pagosa Springs</td><td>37.265263</td><td>-107.01487</td><td>2200000.0</td></tr><tr><td>Cocoa Beach</td><td>28.305532</td><td>-80.608315</td><td>2850000.0</td></tr><tr><td>Cartersville</td><td>34.16926</td><td>-84.856895</td><td>294500.0</td></tr><tr><td>Minden</td><td>39.03108</td><td>-119.72226</td><td>630000.0</td></tr><tr><td>Omaha</td><td>41.27281</td><td>-96.156228</td><td>269850.0</td></tr><tr><td>Allentown</td><td>40.60505</td><td>-75.46818</td><td>213500.0</td></tr><tr><td>Breckenridge</td><td>46.287586</td><td>-96.59295</td><td>499900.0</td></tr><tr><td>Woodbridge</td><td>38.63688</td><td>-77.37001</td><td>600000.0</td></tr><tr><td>Panama City Beach</td><td>30.235945</td><td>-85.911354</td><td>749900.0</td></tr><tr><td>Halethorpe</td><td>39.2506</td><td>-76.6882</td><td>342400.0</td></tr><tr><td>Rutherfordton</td><td>35.34537</td><td>-81.98022</td><td>445000.0</td></tr><tr><td>Grand Lake</td><td>40.25005</td><td>-105.830284</td><td>560000.0</td></tr><tr><td>Davie</td><td>26.130423</td><td>-80.41552</td><td>2095000.0</td></tr><tr><td>Greeneville</td><td>36.187737</td><td>-82.77781</td><td>314550.0</td></tr><tr><td>Chattanooga</td><td>34.998283</td><td>-85.143364</td><td>500000.0</td></tr><tr><td>Dallas</td><td>33.294901</td><td>-92.84660633333333</td><td>447033.3333</td></tr><tr><td>Springdale</td><td>36.235783</td><td>-94.12244</td><td>400000.0</td></tr><tr><td>Oakland</td><td>35.23973</td><td>-89.49426</td><td>300000.0</td></tr><tr><td>Swartz Creek</td><td>42.93748</td><td>-83.78766</td><td>458000.0</td></tr><tr><td>West Fargo</td><td>46.847694</td><td>-96.91928</td><td>319900.0</td></tr><tr><td>Mission Viejo</td><td>33.652245</td><td>-117.64274</td><td>975000.0</td></tr><tr><td>Midlothian</td><td>34.9179875</td><td>-87.30815999999999</td><td>541957.0</td></tr><tr><td>Temple</td><td>31.18471</td><td>-97.44688</td><td>0.0</td></tr><tr><td>San Antonio</td><td>29.453821</td><td>-98.638565</td><td>309950.0</td></tr><tr><td>Bakersfield</td><td>35.300076</td><td>-119.074875</td><td>411800.0</td></tr><tr><td>Shoreline</td><td>47.771317</td><td>-122.31745</td><td>680000.0</td></tr><tr><td>Bend</td><td>44.020138</td><td>-121.304825</td><td>736400.0</td></tr><tr><td>Elk Grove</td><td>38.38874</td><td>-121.40938</td><td>815000.0</td></tr><tr><td>Raleigh</td><td>35.80746425</td><td>-78.62687125</td><td>453097.5</td></tr><tr><td>Alexandria</td><td>38.834816</td><td>-77.11041</td><td>628000.0</td></tr><tr><td>Lynnwood</td><td>47.868473</td><td>-122.286095</td><td>1050000.0</td></tr><tr><td>Blaine</td><td>48.99764</td><td>-122.71125</td><td>1649000.0</td></tr><tr><td>Louisville</td><td>38.152554</td><td>-85.792404</td><td>585000.0</td></tr><tr><td>Poinciana</td><td>28.042023</td><td>-81.503624</td><td>375000.0</td></tr><tr><td>Dayton</td><td>30.036463</td><td>-94.947334</td><td>825000.0</td></tr><tr><td>Brooksville</td><td>28.611174</td><td>-82.51886</td><td>339990.0</td></tr><tr><td>Fayetteville</td><td>35.061974</td><td>-79.029686</td><td>370000.0</td></tr><tr><td>Los Angeles</td><td>34.1010334</td><td>-118.31667780000001</td><td>2209440.0</td></tr><tr><td>Fairfield</td><td>41.132767</td><td>-73.26132</td><td>1649000.0</td></tr><tr><td>Mabank</td><td>32.221832</td><td>-96.07373</td><td>0.0</td></tr><tr><td>Visalia</td><td>36.364517</td><td>-119.27694</td><td>995000.0</td></tr><tr><td>Manassas</td><td>38.73989</td><td>-77.456345</td><td>630000.0</td></tr><tr><td>Clarksville</td><td>36.579888499999996</td><td>-87.31176500000001</td><td>389750.0</td></tr><tr><td>Surprise</td><td>33.58282</td><td>-112.41562</td><td>503990.0</td></tr><tr><td>New Braunfels</td><td>29.784822</td><td>-98.291504</td><td>575000.0</td></tr><tr><td>Saint Augustine</td><td>30.027784</td><td>-81.53845</td><td>730000.0</td></tr><tr><td>Crawfordville</td><td>30.207676</td><td>-84.33303</td><td>315900.0</td></tr><tr><td>Elkhorn</td><td>41.2692925</td><td>-96.2212725</td><td>581950.0</td></tr><tr><td>Statham</td><td>33.94918</td><td>-83.60067</td><td>389900.0</td></tr><tr><td>Ponderay</td><td>48.31109733333333</td><td>-116.53870966666666</td><td>615666.6667</td></tr><tr><td>Creston</td><td>35.491966</td><td>-120.42681</td><td>1150000.0</td></tr><tr><td>Pomona</td><td>34.03627</td><td>-117.78889</td><td>1600000.0</td></tr><tr><td>Cleveland</td><td>34.597652</td><td>-83.72528</td><td>1075000.0</td></tr><tr><td>Lithia Springs</td><td>33.779907</td><td>-84.65437</td><td>329700.0</td></tr><tr><td>Nashville</td><td>36.153786</td><td>-86.80327199999999</td><td>795350.0</td></tr><tr><td>San Francisco</td><td>37.73033</td><td>-122.496254</td><td>2280000.0</td></tr><tr><td>Montgomery</td><td>30.282711</td><td>-95.580605</td><td>0.0</td></tr><tr><td>Southfield</td><td>42.492966</td><td>-83.25143</td><td>300000.0</td></tr><tr><td>Tolleson</td><td>33.425938</td><td>-112.25494</td><td>360000.0</td></tr><tr><td>Lake Tapawingo</td><td>39.019794</td><td>-94.30934</td><td>299000.0</td></tr><tr><td>Santa Rosa</td><td>38.464363</td><td>-122.671364</td><td>720000.0</td></tr><tr><td>Boerne</td><td>29.793707</td><td>-98.6958</td><td>767700.0</td></tr><tr><td>Marthasville</td><td>38.67027</td><td>-90.97308</td><td>235000.0</td></tr><tr><td>Greensburg</td><td>40.281593</td><td>-79.51828</td><td>299900.0</td></tr><tr><td>Garnet Valley</td><td>39.85511</td><td>-75.478874</td><td>383500.0</td></tr><tr><td>Conyers</td><td>33.6629475</td><td>-84.0070375</td><td>417724.5</td></tr><tr><td>Saint Johns</td><td>30.11767</td><td>-81.63272</td><td>649900.0</td></tr><tr><td>McAllen</td><td>26.274311</td><td>-98.20604</td><td>785000.0</td></tr><tr><td>Santa Rosa Beach</td><td>30.315071</td><td>-86.11777</td><td>2825000.0</td></tr><tr><td>San Carlos</td><td>37.50916</td><td>-122.272415</td><td>3711800.0</td></tr><tr><td>Florence</td><td>34.15854</td><td>-79.747505</td><td>255000.0</td></tr><tr><td>Princeton</td><td>33.159027</td><td>-96.47842</td><td>365990.0</td></tr><tr><td>Street</td><td>39.65675</td><td>-76.33305</td><td>877700.0</td></tr><tr><td>Norman</td><td>35.16978</td><td>-97.415596</td><td>440840.0</td></tr><tr><td>Spring Lake</td><td>43.096905</td><td>-86.18369</td><td>583625.0</td></tr><tr><td>Cheyenne</td><td>41.150253</td><td>-104.836525</td><td>690000.0</td></tr><tr><td>Richmond Hill</td><td>31.878674</td><td>-81.25827</td><td>477000.0</td></tr><tr><td>Lynn</td><td>42.468773</td><td>-70.96088</td><td>805000.0</td></tr><tr><td>Clayton</td><td>35.62916</td><td>-78.44146</td><td>297694.0</td></tr><tr><td>Ramsey</td><td>45.24268</td><td>-93.40544</td><td>395000.0</td></tr><tr><td>Palmetto</td><td>27.562016</td><td>-82.507225</td><td>439945.0</td></tr><tr><td>Sedalia</td><td>38.701935</td><td>-93.30796</td><td>799000.0</td></tr><tr><td>Birmingham</td><td>33.47775</td><td>-86.80183</td><td>1190000.0</td></tr><tr><td>Rose Hill</td><td>37.602608</td><td>-97.13885</td><td>530000.0</td></tr><tr><td>Vienna</td><td>38.91017</td><td>-77.238</td><td>822100.0</td></tr><tr><td>Fountain Hills</td><td>33.624626</td><td>-111.72333</td><td>836200.0</td></tr><tr><td>Independence</td><td>39.08582</td><td>-94.36765</td><td>0.0</td></tr><tr><td>Weston</td><td>43.315838</td><td>-72.829124</td><td>1050000.0</td></tr><tr><td>Lenexa</td><td>38.96607</td><td>-94.872795</td><td>0.0</td></tr><tr><td>Lagrange</td><td>33.056335</td><td>-85.01678</td><td>210000.0</td></tr><tr><td>Bradenton</td><td>27.414015</td><td>-82.43796</td><td>700000.0</td></tr><tr><td>Tarzana</td><td>34.158264</td><td>-118.53142</td><td>1905700.0</td></tr><tr><td>Buford</td><td>34.083893</td><td>-83.93109</td><td>288500.0</td></tr><tr><td>Desoto</td><td>32.579814999999996</td><td>-96.85621499999999</td><td>414500.0</td></tr><tr><td>Hemet</td><td>33.68756</td><td>-116.962326</td><td>499900.0</td></tr><tr><td>Blue Springs</td><td>38.99162</td><td>-94.27921</td><td>509900.0</td></tr><tr><td>Ham Lake</td><td>45.255424</td><td>-93.25371</td><td>625000.0</td></tr><tr><td>Jerome</td><td>34.749554</td><td>-112.11488</td><td>888000.0</td></tr><tr><td>Venice</td><td>33.99255</td><td>-118.45832</td><td>3231400.0</td></tr><tr><td>Austin</td><td>30.282862</td><td>-97.759384</td><td>2200000.0</td></tr><tr><td>Palm Harbor</td><td>28.088648</td><td>-82.74597</td><td>619900.0</td></tr><tr><td>El Paso</td><td>31.7586585</td><td>-106.287234</td><td>214975.0</td></tr><tr><td>Hawley</td><td>41.36089</td><td>-75.05803</td><td>549000.0</td></tr><tr><td>Milton</td><td>38.766605</td><td>-75.36199</td><td>525000.0</td></tr><tr><td>Pickerington</td><td>39.91874</td><td>-82.7426</td><td>689718.0</td></tr><tr><td>Lithia</td><td>27.855278</td><td>-82.182434</td><td>944900.0</td></tr><tr><td>Pasadena</td><td>34.138332</td><td>-118.17644</td><td>1598400.0</td></tr><tr><td>Morrow</td><td>33.583015</td><td>-84.327835</td><td>305000.0</td></tr><tr><td>Incline Village</td><td>39.25868</td><td>-119.96261</td><td>8250000.0</td></tr><tr><td>Spring</td><td>30.053453</td><td>-95.34988</td><td>328000.0</td></tr><tr><td>Gilbert</td><td>33.322577499999994</td><td>-111.70852500000001</td><td>480000.0</td></tr><tr><td>Anderson</td><td>34.536797</td><td>-82.64978</td><td>479999.0</td></tr><tr><td>Key Largo</td><td>25.167858</td><td>-80.38166</td><td>1950000.0</td></tr><tr><td>Saint Cloud</td><td>28.175745</td><td>-81.24223</td><td>324990.0</td></tr><tr><td>Mesquite</td><td>32.7837865</td><td>-96.630758</td><td>0.0</td></tr><tr><td>Lansing</td><td>42.795135</td><td>-84.61255</td><td>338700.0</td></tr><tr><td>Huntingtown</td><td>38.637054</td><td>-76.63833</td><td>669888.0</td></tr><tr><td>Plymouth</td><td>41.81093</td><td>-70.56879</td><td>960000.0</td></tr><tr><td>Apopka</td><td>28.68703</td><td>-81.47532</td><td>427000.0</td></tr><tr><td>Rifle</td><td>39.53728</td><td>-107.777306</td><td>998000.0</td></tr><tr><td>Sumrall</td><td>31.42836</td><td>-89.62209</td><td>549900.0</td></tr><tr><td>Miami Beach</td><td>25.839817</td><td>-80.13142</td><td>2050000.0</td></tr><tr><td>Athens</td><td>32.208145</td><td>-95.80774</td><td>9999000.0</td></tr><tr><td>Tampa</td><td>27.891623</td><td>-82.493416</td><td>382500.0</td></tr><tr><td>Papillion</td><td>41.119087</td><td>-96.03467</td><td>647375.0</td></tr><tr><td>Saint Bernard</td><td>29.839437</td><td>-89.75524</td><td>316100.0</td></tr><tr><td>Elizabethtown</td><td>40.12168</td><td>-76.61712</td><td>1250000.0</td></tr><tr><td>Heath</td><td>32.864746</td><td>-96.463196</td><td>1589500.0</td></tr><tr><td>Deltaville</td><td>37.568996</td><td>-76.34679</td><td>389000.0</td></tr><tr><td>Fort Lauderdale</td><td>26.154997</td><td>-80.12467</td><td>2500000.0</td></tr><tr><td>Biloxi</td><td>30.47606</td><td>-88.98276</td><td>315000.0</td></tr><tr><td>Milan</td><td>42.09915</td><td>-83.6848</td><td>374000.0</td></tr><tr><td>Wills Point</td><td>32.694542</td><td>-95.96178</td><td>355000.0</td></tr><tr><td>Daphne</td><td>30.705479</td><td>-87.889175</td><td>544900.0</td></tr><tr><td>Jasper</td><td>34.48054</td><td>-84.27962</td><td>785000.0</td></tr><tr><td>Wimauma</td><td>27.66976</td><td>-82.329895</td><td>346990.0</td></tr><tr><td>Highlands Ranch</td><td>39.546366</td><td>-104.96190166666668</td><td>1276000.0</td></tr><tr><td>Weatherford</td><td>32.865173</td><td>-97.704956</td><td>1210400.0</td></tr><tr><td>Klamath Falls</td><td>42.231934</td><td>-121.82185</td><td>424200.0</td></tr><tr><td>Longview</td><td>32.565662</td><td>-94.698616</td><td>704765.0</td></tr><tr><td>Lancaster</td><td>37.715603</td><td>-76.50297</td><td>949000.0</td></tr><tr><td>Swanton</td><td>39.517883</td><td>-79.314995</td><td>2899000.0</td></tr><tr><td>Cypress</td><td>29.994274</td><td>-95.64058</td><td>369900.0</td></tr><tr><td>Erie</td><td>40.07262</td><td>-105.047585</td><td>1040000.0</td></tr><tr><td>Warsaw</td><td>41.235954</td><td>-85.85506</td><td>40000.0</td></tr><tr><td>West Jordan</td><td>40.596115</td><td>-112.040054</td><td>789900.0</td></tr><tr><td>Corpus Christi</td><td>27.668809500000002</td><td>-97.366147</td><td>386950.0</td></tr><tr><td>Newport</td><td>44.654587</td><td>-124.048485</td><td>575000.0</td></tr><tr><td>Colleyville</td><td>32.875618</td><td>-97.15241</td><td>949000.0</td></tr><tr><td>Sedona</td><td>34.918316</td><td>-111.82112</td><td>3100000.0</td></tr><tr><td>Granbury</td><td>32.39164</td><td>-97.73227</td><td>355000.0</td></tr><tr><td>Wilmington</td><td>39.71948</td><td>-75.645035</td><td>438500.0</td></tr><tr><td>Commerce City</td><td>39.881676</td><td>-104.77248</td><td>500000.0</td></tr><tr><td>Rogers</td><td>45.234146</td><td>-93.52724</td><td>479990.0</td></tr><tr><td>Terrell</td><td>32.683346</td><td>-96.40327</td><td>789900.0</td></tr><tr><td>Puyallup</td><td>47.12026</td><td>-122.28279</td><td>559000.0</td></tr><tr><td>Porter Ranch</td><td>34.29924</td><td>-118.58458</td><td>2350000.0</td></tr><tr><td>Punta Gorda</td><td>26.7982</td><td>-81.7416</td><td>519999.0</td></tr><tr><td>Macon</td><td>32.72181</td><td>-83.70353</td><td>291490.0</td></tr><tr><td>Aberdeen</td><td>45.476547</td><td>-98.464584</td><td>418900.0</td></tr><tr><td>Edmond</td><td>35.652553</td><td>-97.521462</td><td>487900.0</td></tr><tr><td>Bay City</td><td>28.765934</td><td>-95.6376</td><td>348862.0</td></tr><tr><td>Mc Lean</td><td>38.94294</td><td>-77.183675</td><td>2842500.0</td></tr><tr><td>Atlanta</td><td>33.714286666666666</td><td>-84.43909133333334</td><td>551666.6667</td></tr><tr><td>Lithonia</td><td>33.66573</td><td>-84.20721</td><td>585000.0</td></tr><tr><td>Yelm</td><td>46.955666</td><td>-122.61464</td><td>464600.0</td></tr><tr><td>Shickshinny</td><td>41.21414</td><td>-76.18911</td><td>400000.0</td></tr><tr><td>Murfreesboro</td><td>35.796917</td><td>-86.440704</td><td>585271.0</td></tr><tr><td>Alamo</td><td>37.86464</td><td>-122.04767</td><td>4175000.0</td></tr><tr><td>Raeford</td><td>35.008286</td><td>-79.35649</td><td>314737.0</td></tr><tr><td>Las Vegas</td><td>36.204079</td><td>-115.27062700000002</td><td>517600.0</td></tr><tr><td>Lexington</td><td>34.036114</td><td>-81.169365</td><td>419500.0</td></tr><tr><td>Pearland</td><td>29.557875</td><td>-95.30124</td><td>330000.0</td></tr><tr><td>Greenville</td><td>35.585117</td><td>-77.30147</td><td>294990.0</td></tr><tr><td>Brooklyn</td><td>40.57621</td><td>-73.951096</td><td>2488000.0</td></tr><tr><td>Marysville</td><td>48.067895</td><td>-122.13677133333333</td><td>593996.6667</td></tr><tr><td>Altamont</td><td>42.743134</td><td>-73.98533</td><td>699900.0</td></tr><tr><td>Portola</td><td>39.85215</td><td>-120.41729</td><td>940000.0</td></tr><tr><td>Charlottesville</td><td>38.066425</td><td>-78.47147</td><td>892000.0</td></tr><tr><td>Monroe city</td><td>39.65891</td><td>-91.73501</td><td>243800.0</td></tr><tr><td>Seagoville</td><td>32.639576</td><td>-96.53832</td><td>352000.0</td></tr><tr><td>Sherrills Ford</td><td>35.573864</td><td>-80.99127</td><td>381095.0</td></tr><tr><td>Canal Winchester</td><td>39.905094</td><td>-82.80713</td><td>278000.0</td></tr><tr><td>Chapin</td><td>34.1504</td><td>-81.34808</td><td>340789.0</td></tr><tr><td>Myrtle Beach</td><td>33.72119766666666</td><td>-78.95597833333333</td><td>646689.0</td></tr><tr><td>Seattle</td><td>47.533997</td><td>-122.371605</td><td>1049800.0</td></tr><tr><td>Royse City</td><td>32.931873</td><td>-96.33741</td><td>464900.0</td></tr><tr><td>Coeur D Alene</td><td>47.733894</td><td>-116.84627</td><td>1107800.0</td></tr><tr><td>Bayside Hills</td><td>40.750908</td><td>-73.76669</td><td>1288000.0</td></tr><tr><td>Port Saint Lucie</td><td>27.211676</td><td>-80.31966</td><td>649900.0</td></tr><tr><td>Evans</td><td>33.53178</td><td>-82.11121</td><td>239900.0</td></tr><tr><td>Ellensburg</td><td>47.02534</td><td>-120.56966</td><td>454995.0</td></tr><tr><td>Gainesville</td><td>34.24143</td><td>-83.91071</td><td>514900.0</td></tr><tr><td>Littleton</td><td>39.490578</td><td>-105.03535</td><td>624900.0</td></tr><tr><td>Staten Island</td><td>40.524548</td><td>-74.2129</td><td>1549000.0</td></tr><tr><td>Castle Rock</td><td>39.40634</td><td>-104.888405</td><td>609100.0</td></tr><tr><td>Factoryville</td><td>41.573284</td><td>-75.79049</td><td>725000.0</td></tr><tr><td>Southport</td><td>33.938965</td><td>-78.12102</td><td>799000.0</td></tr><tr><td>Leyden</td><td>42.70262</td><td>-72.609985</td><td>825000.0</td></tr><tr><td>Gunnison</td><td>38.755264</td><td>-107.042206</td><td>2995000.0</td></tr><tr><td>Frederick</td><td>39.38868</td><td>-77.45059</td><td>550000.0</td></tr><tr><td>Clinton</td><td>38.75459</td><td>-76.88346</td><td>554000.0</td></tr><tr><td>Sugar Land</td><td>29.567156</td><td>-95.67245</td><td>579999.0</td></tr><tr><td>Fredericksburg</td><td>38.364243</td><td>-77.59844</td><td>677278.0</td></tr><tr><td>Lake Charles</td><td>30.233204</td><td>-93.21519</td><td>449500.0</td></tr><tr><td>Patterson</td><td>37.480343</td><td>-121.13703</td><td>699000.0</td></tr><tr><td>China Grove</td><td>35.55984</td><td>-80.60155</td><td>355000.0</td></tr><tr><td>West Bend</td><td>43.38143</td><td>-88.223</td><td>2200000.0</td></tr><tr><td>Anthony</td><td>31.96521</td><td>-106.60069</td><td>334950.0</td></tr><tr><td>Claude</td><td>35.108147</td><td>-101.36361</td><td>329000.0</td></tr><tr><td>Huntsville</td><td>34.71834</td><td>-86.57559</td><td>919000.0</td></tr><tr><td>Kansas City</td><td>39.268234</td><td>-94.62675</td><td>385000.0</td></tr><tr><td>Laurel</td><td>39.127247</td><td>-76.84177</td><td>642500.0</td></tr><tr><td>Urbandale</td><td>41.644962</td><td>-93.73172</td><td>295025.0</td></tr><tr><td>Henderson</td><td>35.9911405</td><td>-115.04590999999999</td><td>685333.3333</td></tr><tr><td>Mooresville</td><td>35.650444</td><td>-80.89504</td><td>721875.0</td></tr><tr><td>White</td><td>34.27412</td><td>-84.73779</td><td>390000.0</td></tr><tr><td>Pittsfield</td><td>42.43123</td><td>-73.212456</td><td>449000.0</td></tr><tr><td>Gordon</td><td>32.58168</td><td>-98.30877</td><td>599000.0</td></tr><tr><td>Missoula</td><td>46.89663</td><td>-114.11839</td><td>0.0</td></tr><tr><td>Saint Louis</td><td>38.6526</td><td>-90.19727</td><td>250000.0</td></tr><tr><td>Salisbury</td><td>35.607185</td><td>-80.43626</td><td>386750.0</td></tr><tr><td>Quincy</td><td>39.887535</td><td>-91.3619</td><td>485000.0</td></tr><tr><td>Greenfield</td><td>39.790443</td><td>-85.810555</td><td>254485.0</td></tr><tr><td>Suffolk</td><td>36.770844</td><td>-76.56576</td><td>420000.0</td></tr><tr><td>Elkhart</td><td>41.71149</td><td>-85.97841</td><td>860000.0</td></tr><tr><td>Windsor</td><td>40.49064</td><td>-104.89204</td><td>1047899.0</td></tr><tr><td>Galloway</td><td>39.936054</td><td>-83.156136</td><td>290000.0</td></tr><tr><td>Pineville</td><td>35.04255</td><td>-80.87056</td><td>590000.0</td></tr><tr><td>Hamilton</td><td>39.41067</td><td>-84.4563</td><td>667500.0</td></tr><tr><td>Splendora</td><td>30.249777</td><td>-95.20432</td><td>258990.0</td></tr><tr><td>Angier</td><td>35.540615</td><td>-78.75422</td><td>483700.0</td></tr><tr><td>Winter Springs</td><td>28.653738</td><td>-81.280556</td><td>424900.0</td></tr><tr><td>Billings</td><td>45.74025</td><td>-108.56611</td><td>499975.0</td></tr><tr><td>Roanoke</td><td>37.29504</td><td>-79.97008</td><td>298900.0</td></tr><tr><td>Tucson</td><td>32.22727533333333</td><td>-110.90147666666667</td><td>763000.0</td></tr><tr><td>Palm Coast</td><td>29.512182</td><td>-81.21886</td><td>648900.0</td></tr><tr><td>Sarasota</td><td>27.2844735</td><td>-82.50180700000001</td><td>863650.0</td></tr><tr><td>Alpine</td><td>32.85061</td><td>-116.75602</td><td>1325000.0</td></tr><tr><td>Arnold</td><td>38.419395</td><td>-90.37764</td><td>450600.0</td></tr><tr><td>Snellville</td><td>33.81079</td><td>-84.01293</td><td>655000.0</td></tr><tr><td>San Luis Obispo</td><td>35.258934</td><td>-120.68052</td><td>955000.0</td></tr><tr><td>Grain Valley</td><td>38.99716</td><td>-94.22224</td><td>395000.0</td></tr><tr><td>Bay Point</td><td>38.030178</td><td>-121.97546</td><td>630000.0</td></tr><tr><td>Cape Coral</td><td>26.644273666666667</td><td>-81.99037333333332</td><td>776633.0</td></tr><tr><td>Canton</td><td>34.170097</td><td>-84.394104</td><td>1240500.0</td></tr><tr><td>Neenah</td><td>44.156002</td><td>-88.440155</td><td>1595000.0</td></tr><tr><td>Houston</td><td>29.8639805</td><td>-95.46030149999999</td><td>481447.0</td></tr><tr><td>Maiden</td><td>35.56816</td><td>-81.05906</td><td>425000.0</td></tr><tr><td>Woonsocket</td><td>42.011597</td><td>-71.505714</td><td>500000.0</td></tr><tr><td>Plantation</td><td>26.11799</td><td>-80.24987</td><td>765000.0</td></tr><tr><td>Santa Barbara</td><td>34.4487465</td><td>-119.7353</td><td>8622500.0</td></tr><tr><td>Boca Raton</td><td>26.357388</td><td>-80.08002</td><td>6250000.0</td></tr><tr><td>Lebanon</td><td>36.22477</td><td>-86.275024</td><td>465000.0</td></tr><tr><td>Copperas Cove</td><td>31.08537</td><td>-97.92306</td><td>499900.0</td></tr><tr><td>New Waverly</td><td>30.523354</td><td>-95.39097</td><td>700000.0</td></tr><tr><td>Denton</td><td>35.612877</td><td>-80.22595</td><td>1499000.0</td></tr><tr><td>Jacksonville</td><td>30.196608</td><td>-81.816216</td><td>365000.0</td></tr><tr><td>Nampa</td><td>43.635757</td><td>-116.569595</td><td>0.0</td></tr><tr><td>Rowlett</td><td>32.90988</td><td>-96.5621</td><td>0.0</td></tr><tr><td>Des Moines</td><td>41.677193</td><td>-93.6064</td><td>449000.0</td></tr><tr><td>Fremont</td><td>41.426136</td><td>-96.51679</td><td>459900.0</td></tr><tr><td>Jonesboro</td><td>35.829384</td><td>-90.72516</td><td>299900.0</td></tr><tr><td>Havelock</td><td>34.934414</td><td>-76.8173</td><td>354999.0</td></tr><tr><td>Corvallis</td><td>44.595634</td><td>-123.313416</td><td>463437.0</td></tr><tr><td>Virginia Beach</td><td>36.8005285</td><td>-76.0261</td><td>1799700.0</td></tr><tr><td>Cordova</td><td>35.14287</td><td>-89.787605</td><td>232000.0</td></tr><tr><td>Elgin</td><td>30.370356</td><td>-97.39806</td><td>347170.0</td></tr><tr><td>New Hope</td><td>40.365803</td><td>-75.024345</td><td>1995000.0</td></tr><tr><td>Murrieta</td><td>33.619125</td><td>-117.12593</td><td>775000.0</td></tr><tr><td>Kalispell</td><td>48.26756</td><td>-114.29883</td><td>1295000.0</td></tr><tr><td>Camas</td><td>45.649384</td><td>-122.45725</td><td>468135.0</td></tr><tr><td>North Myrtle Beach</td><td>33.80338</td><td>-78.75545</td><td>466440.0</td></tr><tr><td>Knoxville</td><td>35.859425</td><td>-84.11145</td><td>671300.0</td></tr><tr><td>Brookline</td><td>42.762268</td><td>-71.69799</td><td>899000.0</td></tr><tr><td>Brandon</td><td>27.975142</td><td>-82.30411</td><td>308000.0</td></tr><tr><td>Buena Vista</td><td>38.861782</td><td>-106.14387</td><td>695000.0</td></tr><tr><td>Union City</td><td>37.596428</td><td>-122.05366</td><td>1635000.0</td></tr><tr><td>Clearfield</td><td>41.129692</td><td>-112.08479</td><td>669000.0</td></tr><tr><td>Park City</td><td>40.723583</td><td>-111.50146</td><td>0.0</td></tr><tr><td>New Port Richey</td><td>28.284786</td><td>-82.621376</td><td>486900.0</td></tr><tr><td>Palm Beach Gardens</td><td>26.837797</td><td>-80.06711</td><td>5750000.0</td></tr><tr><td>Bal Harbour</td><td>25.88963</td><td>-80.12816</td><td>2.15E7</td></tr><tr><td>East Palestine</td><td>40.832764</td><td>-80.530045</td><td>51000.0</td></tr><tr><td>Pt Royal</td><td>32.382942</td><td>-80.68389</td><td>210000.0</td></tr><tr><td>Cumming</td><td>34.300053</td><td>-84.103645</td><td>687000.0</td></tr><tr><td>Reddick</td><td>29.325045</td><td>-82.254944</td><td>2000000.0</td></tr><tr><td>Leesburg</td><td>28.839054</td><td>-81.88329</td><td>390900.0</td></tr><tr><td>North Ogden</td><td>41.31656</td><td>-111.95072</td><td>569900.0</td></tr><tr><td>Columbia</td><td>34.547124999999994</td><td>-83.00601666666667</td><td>275756.6667</td></tr><tr><td>Zephyrhills</td><td>28.22576</td><td>-82.2015</td><td>359990.0</td></tr><tr><td>Green Cove Springs</td><td>30.040144</td><td>-81.79669</td><td>432000.0</td></tr><tr><td>Richmond</td><td>29.671307</td><td>-95.71501</td><td>453200.0</td></tr><tr><td>Lyndora</td><td>40.85698</td><td>-79.91227</td><td>189000.0</td></tr><tr><td>Lake Ariel</td><td>41.43036</td><td>-75.35663</td><td>287550.0</td></tr><tr><td>Mesa</td><td>33.423233</td><td>-111.64022</td><td>354000.0</td></tr><tr><td>Towson</td><td>39.414707</td><td>-76.56913</td><td>1053796.0</td></tr><tr><td>Beverly Hills</td><td>34.094036</td><td>-118.43245</td><td>4.95E7</td></tr><tr><td>Orlando</td><td>28.482853</td><td>-81.23036</td><td>404280.0</td></tr><tr><td>Huntley</td><td>42.170353</td><td>-88.42146</td><td>445000.0</td></tr><tr><td>Adrian</td><td>41.901913</td><td>-84.0858</td><td>314900.0</td></tr><tr><td>Pensacola</td><td>30.509968</td><td>-87.382835</td><td>429900.0</td></tr><tr><td>Fort Myers</td><td>26.512592</td><td>-81.91025</td><td>350000.0</td></tr><tr><td>Mount Juliet</td><td>36.250553</td><td>-86.549</td><td>599900.0</td></tr><tr><td>Lawrence</td><td>38.99234</td><td>-95.2842</td><td>389900.0</td></tr><tr><td>Charlotte</td><td>35.30465</td><td>-80.699196</td><td>454500.0</td></tr><tr><td>Sanford</td><td>28.755005</td><td>-81.23958</td><td>460000.0</td></tr><tr><td>Olathe</td><td>38.870895</td><td>-94.877846</td><td>569915.0</td></tr><tr><td>Lake Oswego</td><td>45.435284</td><td>-122.71725</td><td>610000.0</td></tr><tr><td>Rancho Mirage</td><td>33.79948</td><td>-116.44157</td><td>690000.0</td></tr><tr><td>Mountain View</td><td>37.39528</td><td>-122.09122</td><td>2098000.0</td></tr><tr><td>Davenport</td><td>28.212967000000003</td><td>-81.63048633333334</td><td>483332.0</td></tr><tr><td>Humble</td><td>30.052744</td><td>-95.21374</td><td>340000.0</td></tr><tr><td>Marietta</td><td>33.878635</td><td>-84.56494</td><td>490000.0</td></tr><tr><td>Roseville</td><td>38.78803</td><td>-121.29681</td><td>650000.0</td></tr><tr><td>Woodinville</td><td>47.734486</td><td>-122.050705</td><td>1375000.0</td></tr><tr><td>Bismarck</td><td>46.829075</td><td>-100.77679</td><td>294900.0</td></tr><tr><td>Plant City</td><td>27.973589</td><td>-82.16294</td><td>412900.0</td></tr><tr><td>Parker</td><td>39.499233</td><td>-104.803055</td><td>860000.0</td></tr><tr><td>Katy</td><td>29.85022</td><td>-95.80891</td><td>299000.0</td></tr><tr><td>Ruidoso</td><td>33.34259</td><td>-105.65831</td><td>474900.0</td></tr><tr><td>Federal Way</td><td>47.298782</td><td>-122.37749</td><td>550000.0</td></tr><tr><td>Osage Beach</td><td>38.122604</td><td>-92.65287</td><td>799900.0</td></tr><tr><td>Tonka Bay</td><td>44.90712</td><td>-93.59103</td><td>1300000.0</td></tr><tr><td>Athol</td><td>48.01801</td><td>-116.665344</td><td>1795010.0</td></tr><tr><td>Longs</td><td>33.793118</td><td>-78.787704</td><td>342990.0</td></tr><tr><td>Fort Worth</td><td>32.616311499999995</td><td>-97.32917</td><td>397995.0</td></tr><tr><td>Denver</td><td>38.327915999999995</td><td>-96.93696333333332</td><td>1178000.0</td></tr><tr><td>Sugar Valley</td><td>34.55622</td><td>-85.0215</td><td>950000.0</td></tr><tr><td>Hollis</td><td>42.7586885</td><td>-71.61276000000001</td><td>1519950.0</td></tr><tr><td>Homestead</td><td>40.408173</td><td>-79.900475</td><td>149900.0</td></tr><tr><td>Leland</td><td>34.293064</td><td>-78.14877</td><td>414900.0</td></tr><tr><td>Belle Fourche</td><td>44.65335</td><td>-103.84898</td><td>439900.0</td></tr><tr><td>Prescott</td><td>34.522633</td><td>-112.48551</td><td>765000.0</td></tr><tr><td>East Falmouth</td><td>41.636703</td><td>-70.59786</td><td>1329000.0</td></tr><tr><td>Douglasville</td><td>33.68174</td><td>-84.68221</td><td>332900.0</td></tr><tr><td>Bermuda Run</td><td>36.01309</td><td>-80.43292</td><td>428000.0</td></tr></tbody></table></div>"
      ]
     },
     "metadata": {
      "application/vnd.databricks.v1+output": {
       "addedWidgets": {},
       "aggData": [],
       "aggError": "",
       "aggOverflow": false,
       "aggSchema": [],
       "aggSeriesLimitReached": false,
       "aggType": "",
       "arguments": {},
       "columnCustomDisplayInfos": {},
       "data": [
        [
         "Tyler",
         32.32733,
         -95.192955,
         0.0
        ],
        [
         "South Egremont",
         42.141712,
         -73.41186,
         995000.0
        ],
        [
         "Harrisburg",
         40.339207,
         -76.73647,
         348990.0
        ],
        [
         "Springfield",
         37.66069,
         -85.25994,
         899900.0
        ],
        [
         "Corona",
         33.963272,
         -117.60413,
         990000.0
        ],
        [
         "Lawrenceville",
         33.982054,
         -84.02543750000001,
         421000.0
        ],
        [
         "Wellington",
         26.640866666666668,
         -80.23280466666667,
         1233400.0
        ],
        [
         "North Las Vegas",
         36.30251,
         -115.16812,
         566340.0
        ],
        [
         "Auburn",
         34.056335,
         -83.799805,
         1699000.0
        ],
        [
         "Harrison",
         40.9881,
         -73.71914,
         2995000.0
        ],
        [
         "Plainfield",
         41.64775,
         -88.21316,
         477599.0
        ],
        [
         "Georgetown",
         38.25894,
         -84.5196,
         483800.0
        ],
        [
         "Brunswick",
         31.13863,
         -81.49299,
         335000.0
        ],
        [
         "Hollywood",
         25.99451,
         -80.379684,
         1225000.0
        ],
        [
         "Crescent City",
         41.752483,
         -124.20798,
         460000.0
        ],
        [
         "McDonough",
         33.469124,
         -84.18112,
         365000.0
        ],
        [
         "Spring Branch",
         29.835382,
         -98.37462,
         849900.0
        ],
        [
         "Pagosa Springs",
         37.265263,
         -107.01487,
         2200000.0
        ],
        [
         "Cocoa Beach",
         28.305532,
         -80.608315,
         2850000.0
        ],
        [
         "Cartersville",
         34.16926,
         -84.856895,
         294500.0
        ],
        [
         "Minden",
         39.03108,
         -119.72226,
         630000.0
        ],
        [
         "Omaha",
         41.27281,
         -96.156228,
         269850.0
        ],
        [
         "Allentown",
         40.60505,
         -75.46818,
         213500.0
        ],
        [
         "Breckenridge",
         46.287586,
         -96.59295,
         499900.0
        ],
        [
         "Woodbridge",
         38.63688,
         -77.37001,
         600000.0
        ],
        [
         "Panama City Beach",
         30.235945,
         -85.911354,
         749900.0
        ],
        [
         "Halethorpe",
         39.2506,
         -76.6882,
         342400.0
        ],
        [
         "Rutherfordton",
         35.34537,
         -81.98022,
         445000.0
        ],
        [
         "Grand Lake",
         40.25005,
         -105.830284,
         560000.0
        ],
        [
         "Davie",
         26.130423,
         -80.41552,
         2095000.0
        ],
        [
         "Greeneville",
         36.187737,
         -82.77781,
         314550.0
        ],
        [
         "Chattanooga",
         34.998283,
         -85.143364,
         500000.0
        ],
        [
         "Dallas",
         33.294901,
         -92.84660633333333,
         447033.3333
        ],
        [
         "Springdale",
         36.235783,
         -94.12244,
         400000.0
        ],
        [
         "Oakland",
         35.23973,
         -89.49426,
         300000.0
        ],
        [
         "Swartz Creek",
         42.93748,
         -83.78766,
         458000.0
        ],
        [
         "West Fargo",
         46.847694,
         -96.91928,
         319900.0
        ],
        [
         "Mission Viejo",
         33.652245,
         -117.64274,
         975000.0
        ],
        [
         "Midlothian",
         34.9179875,
         -87.30815999999999,
         541957.0
        ],
        [
         "Temple",
         31.18471,
         -97.44688,
         0.0
        ],
        [
         "San Antonio",
         29.453821,
         -98.638565,
         309950.0
        ],
        [
         "Bakersfield",
         35.300076,
         -119.074875,
         411800.0
        ],
        [
         "Shoreline",
         47.771317,
         -122.31745,
         680000.0
        ],
        [
         "Bend",
         44.020138,
         -121.304825,
         736400.0
        ],
        [
         "Elk Grove",
         38.38874,
         -121.40938,
         815000.0
        ],
        [
         "Raleigh",
         35.80746425,
         -78.62687125,
         453097.5
        ],
        [
         "Alexandria",
         38.834816,
         -77.11041,
         628000.0
        ],
        [
         "Lynnwood",
         47.868473,
         -122.286095,
         1050000.0
        ],
        [
         "Blaine",
         48.99764,
         -122.71125,
         1649000.0
        ],
        [
         "Louisville",
         38.152554,
         -85.792404,
         585000.0
        ],
        [
         "Poinciana",
         28.042023,
         -81.503624,
         375000.0
        ],
        [
         "Dayton",
         30.036463,
         -94.947334,
         825000.0
        ],
        [
         "Brooksville",
         28.611174,
         -82.51886,
         339990.0
        ],
        [
         "Fayetteville",
         35.061974,
         -79.029686,
         370000.0
        ],
        [
         "Los Angeles",
         34.1010334,
         -118.31667780000001,
         2209440.0
        ],
        [
         "Fairfield",
         41.132767,
         -73.26132,
         1649000.0
        ],
        [
         "Mabank",
         32.221832,
         -96.07373,
         0.0
        ],
        [
         "Visalia",
         36.364517,
         -119.27694,
         995000.0
        ],
        [
         "Manassas",
         38.73989,
         -77.456345,
         630000.0
        ],
        [
         "Clarksville",
         36.579888499999996,
         -87.31176500000001,
         389750.0
        ],
        [
         "Surprise",
         33.58282,
         -112.41562,
         503990.0
        ],
        [
         "New Braunfels",
         29.784822,
         -98.291504,
         575000.0
        ],
        [
         "Saint Augustine",
         30.027784,
         -81.53845,
         730000.0
        ],
        [
         "Crawfordville",
         30.207676,
         -84.33303,
         315900.0
        ],
        [
         "Elkhorn",
         41.2692925,
         -96.2212725,
         581950.0
        ],
        [
         "Statham",
         33.94918,
         -83.60067,
         389900.0
        ],
        [
         "Ponderay",
         48.31109733333333,
         -116.53870966666666,
         615666.6667
        ],
        [
         "Creston",
         35.491966,
         -120.42681,
         1150000.0
        ],
        [
         "Pomona",
         34.03627,
         -117.78889,
         1600000.0
        ],
        [
         "Cleveland",
         34.597652,
         -83.72528,
         1075000.0
        ],
        [
         "Lithia Springs",
         33.779907,
         -84.65437,
         329700.0
        ],
        [
         "Nashville",
         36.153786,
         -86.80327199999999,
         795350.0
        ],
        [
         "San Francisco",
         37.73033,
         -122.496254,
         2280000.0
        ],
        [
         "Montgomery",
         30.282711,
         -95.580605,
         0.0
        ],
        [
         "Southfield",
         42.492966,
         -83.25143,
         300000.0
        ],
        [
         "Tolleson",
         33.425938,
         -112.25494,
         360000.0
        ],
        [
         "Lake Tapawingo",
         39.019794,
         -94.30934,
         299000.0
        ],
        [
         "Santa Rosa",
         38.464363,
         -122.671364,
         720000.0
        ],
        [
         "Boerne",
         29.793707,
         -98.6958,
         767700.0
        ],
        [
         "Marthasville",
         38.67027,
         -90.97308,
         235000.0
        ],
        [
         "Greensburg",
         40.281593,
         -79.51828,
         299900.0
        ],
        [
         "Garnet Valley",
         39.85511,
         -75.478874,
         383500.0
        ],
        [
         "Conyers",
         33.6629475,
         -84.0070375,
         417724.5
        ],
        [
         "Saint Johns",
         30.11767,
         -81.63272,
         649900.0
        ],
        [
         "McAllen",
         26.274311,
         -98.20604,
         785000.0
        ],
        [
         "Santa Rosa Beach",
         30.315071,
         -86.11777,
         2825000.0
        ],
        [
         "San Carlos",
         37.50916,
         -122.272415,
         3711800.0
        ],
        [
         "Florence",
         34.15854,
         -79.747505,
         255000.0
        ],
        [
         "Princeton",
         33.159027,
         -96.47842,
         365990.0
        ],
        [
         "Street",
         39.65675,
         -76.33305,
         877700.0
        ],
        [
         "Norman",
         35.16978,
         -97.415596,
         440840.0
        ],
        [
         "Spring Lake",
         43.096905,
         -86.18369,
         583625.0
        ],
        [
         "Cheyenne",
         41.150253,
         -104.836525,
         690000.0
        ],
        [
         "Richmond Hill",
         31.878674,
         -81.25827,
         477000.0
        ],
        [
         "Lynn",
         42.468773,
         -70.96088,
         805000.0
        ],
        [
         "Clayton",
         35.62916,
         -78.44146,
         297694.0
        ],
        [
         "Ramsey",
         45.24268,
         -93.40544,
         395000.0
        ],
        [
         "Palmetto",
         27.562016,
         -82.507225,
         439945.0
        ],
        [
         "Sedalia",
         38.701935,
         -93.30796,
         799000.0
        ],
        [
         "Birmingham",
         33.47775,
         -86.80183,
         1190000.0
        ],
        [
         "Rose Hill",
         37.602608,
         -97.13885,
         530000.0
        ],
        [
         "Vienna",
         38.91017,
         -77.238,
         822100.0
        ],
        [
         "Fountain Hills",
         33.624626,
         -111.72333,
         836200.0
        ],
        [
         "Independence",
         39.08582,
         -94.36765,
         0.0
        ],
        [
         "Weston",
         43.315838,
         -72.829124,
         1050000.0
        ],
        [
         "Lenexa",
         38.96607,
         -94.872795,
         0.0
        ],
        [
         "Lagrange",
         33.056335,
         -85.01678,
         210000.0
        ],
        [
         "Bradenton",
         27.414015,
         -82.43796,
         700000.0
        ],
        [
         "Tarzana",
         34.158264,
         -118.53142,
         1905700.0
        ],
        [
         "Buford",
         34.083893,
         -83.93109,
         288500.0
        ],
        [
         "Desoto",
         32.579814999999996,
         -96.85621499999999,
         414500.0
        ],
        [
         "Hemet",
         33.68756,
         -116.962326,
         499900.0
        ],
        [
         "Blue Springs",
         38.99162,
         -94.27921,
         509900.0
        ],
        [
         "Ham Lake",
         45.255424,
         -93.25371,
         625000.0
        ],
        [
         "Jerome",
         34.749554,
         -112.11488,
         888000.0
        ],
        [
         "Venice",
         33.99255,
         -118.45832,
         3231400.0
        ],
        [
         "Austin",
         30.282862,
         -97.759384,
         2200000.0
        ],
        [
         "Palm Harbor",
         28.088648,
         -82.74597,
         619900.0
        ],
        [
         "El Paso",
         31.7586585,
         -106.287234,
         214975.0
        ],
        [
         "Hawley",
         41.36089,
         -75.05803,
         549000.0
        ],
        [
         "Milton",
         38.766605,
         -75.36199,
         525000.0
        ],
        [
         "Pickerington",
         39.91874,
         -82.7426,
         689718.0
        ],
        [
         "Lithia",
         27.855278,
         -82.182434,
         944900.0
        ],
        [
         "Pasadena",
         34.138332,
         -118.17644,
         1598400.0
        ],
        [
         "Morrow",
         33.583015,
         -84.327835,
         305000.0
        ],
        [
         "Incline Village",
         39.25868,
         -119.96261,
         8250000.0
        ],
        [
         "Spring",
         30.053453,
         -95.34988,
         328000.0
        ],
        [
         "Gilbert",
         33.322577499999994,
         -111.70852500000001,
         480000.0
        ],
        [
         "Anderson",
         34.536797,
         -82.64978,
         479999.0
        ],
        [
         "Key Largo",
         25.167858,
         -80.38166,
         1950000.0
        ],
        [
         "Saint Cloud",
         28.175745,
         -81.24223,
         324990.0
        ],
        [
         "Mesquite",
         32.7837865,
         -96.630758,
         0.0
        ],
        [
         "Lansing",
         42.795135,
         -84.61255,
         338700.0
        ],
        [
         "Huntingtown",
         38.637054,
         -76.63833,
         669888.0
        ],
        [
         "Plymouth",
         41.81093,
         -70.56879,
         960000.0
        ],
        [
         "Apopka",
         28.68703,
         -81.47532,
         427000.0
        ],
        [
         "Rifle",
         39.53728,
         -107.777306,
         998000.0
        ],
        [
         "Sumrall",
         31.42836,
         -89.62209,
         549900.0
        ],
        [
         "Miami Beach",
         25.839817,
         -80.13142,
         2050000.0
        ],
        [
         "Athens",
         32.208145,
         -95.80774,
         9999000.0
        ],
        [
         "Tampa",
         27.891623,
         -82.493416,
         382500.0
        ],
        [
         "Papillion",
         41.119087,
         -96.03467,
         647375.0
        ],
        [
         "Saint Bernard",
         29.839437,
         -89.75524,
         316100.0
        ],
        [
         "Elizabethtown",
         40.12168,
         -76.61712,
         1250000.0
        ],
        [
         "Heath",
         32.864746,
         -96.463196,
         1589500.0
        ],
        [
         "Deltaville",
         37.568996,
         -76.34679,
         389000.0
        ],
        [
         "Fort Lauderdale",
         26.154997,
         -80.12467,
         2500000.0
        ],
        [
         "Biloxi",
         30.47606,
         -88.98276,
         315000.0
        ],
        [
         "Milan",
         42.09915,
         -83.6848,
         374000.0
        ],
        [
         "Wills Point",
         32.694542,
         -95.96178,
         355000.0
        ],
        [
         "Daphne",
         30.705479,
         -87.889175,
         544900.0
        ],
        [
         "Jasper",
         34.48054,
         -84.27962,
         785000.0
        ],
        [
         "Wimauma",
         27.66976,
         -82.329895,
         346990.0
        ],
        [
         "Highlands Ranch",
         39.546366,
         -104.96190166666668,
         1276000.0
        ],
        [
         "Weatherford",
         32.865173,
         -97.704956,
         1210400.0
        ],
        [
         "Klamath Falls",
         42.231934,
         -121.82185,
         424200.0
        ],
        [
         "Longview",
         32.565662,
         -94.698616,
         704765.0
        ],
        [
         "Lancaster",
         37.715603,
         -76.50297,
         949000.0
        ],
        [
         "Swanton",
         39.517883,
         -79.314995,
         2899000.0
        ],
        [
         "Cypress",
         29.994274,
         -95.64058,
         369900.0
        ],
        [
         "Erie",
         40.07262,
         -105.047585,
         1040000.0
        ],
        [
         "Warsaw",
         41.235954,
         -85.85506,
         40000.0
        ],
        [
         "West Jordan",
         40.596115,
         -112.040054,
         789900.0
        ],
        [
         "Corpus Christi",
         27.668809500000002,
         -97.366147,
         386950.0
        ],
        [
         "Newport",
         44.654587,
         -124.048485,
         575000.0
        ],
        [
         "Colleyville",
         32.875618,
         -97.15241,
         949000.0
        ],
        [
         "Sedona",
         34.918316,
         -111.82112,
         3100000.0
        ],
        [
         "Granbury",
         32.39164,
         -97.73227,
         355000.0
        ],
        [
         "Wilmington",
         39.71948,
         -75.645035,
         438500.0
        ],
        [
         "Commerce City",
         39.881676,
         -104.77248,
         500000.0
        ],
        [
         "Rogers",
         45.234146,
         -93.52724,
         479990.0
        ],
        [
         "Terrell",
         32.683346,
         -96.40327,
         789900.0
        ],
        [
         "Puyallup",
         47.12026,
         -122.28279,
         559000.0
        ],
        [
         "Porter Ranch",
         34.29924,
         -118.58458,
         2350000.0
        ],
        [
         "Punta Gorda",
         26.7982,
         -81.7416,
         519999.0
        ],
        [
         "Macon",
         32.72181,
         -83.70353,
         291490.0
        ],
        [
         "Aberdeen",
         45.476547,
         -98.464584,
         418900.0
        ],
        [
         "Edmond",
         35.652553,
         -97.521462,
         487900.0
        ],
        [
         "Bay City",
         28.765934,
         -95.6376,
         348862.0
        ],
        [
         "Mc Lean",
         38.94294,
         -77.183675,
         2842500.0
        ],
        [
         "Atlanta",
         33.714286666666666,
         -84.43909133333334,
         551666.6667
        ],
        [
         "Lithonia",
         33.66573,
         -84.20721,
         585000.0
        ],
        [
         "Yelm",
         46.955666,
         -122.61464,
         464600.0
        ],
        [
         "Shickshinny",
         41.21414,
         -76.18911,
         400000.0
        ],
        [
         "Murfreesboro",
         35.796917,
         -86.440704,
         585271.0
        ],
        [
         "Alamo",
         37.86464,
         -122.04767,
         4175000.0
        ],
        [
         "Raeford",
         35.008286,
         -79.35649,
         314737.0
        ],
        [
         "Las Vegas",
         36.204079,
         -115.27062700000002,
         517600.0
        ],
        [
         "Lexington",
         34.036114,
         -81.169365,
         419500.0
        ],
        [
         "Pearland",
         29.557875,
         -95.30124,
         330000.0
        ],
        [
         "Greenville",
         35.585117,
         -77.30147,
         294990.0
        ],
        [
         "Brooklyn",
         40.57621,
         -73.951096,
         2488000.0
        ],
        [
         "Marysville",
         48.067895,
         -122.13677133333333,
         593996.6667
        ],
        [
         "Altamont",
         42.743134,
         -73.98533,
         699900.0
        ],
        [
         "Portola",
         39.85215,
         -120.41729,
         940000.0
        ],
        [
         "Charlottesville",
         38.066425,
         -78.47147,
         892000.0
        ],
        [
         "Monroe city",
         39.65891,
         -91.73501,
         243800.0
        ],
        [
         "Seagoville",
         32.639576,
         -96.53832,
         352000.0
        ],
        [
         "Sherrills Ford",
         35.573864,
         -80.99127,
         381095.0
        ],
        [
         "Canal Winchester",
         39.905094,
         -82.80713,
         278000.0
        ],
        [
         "Chapin",
         34.1504,
         -81.34808,
         340789.0
        ],
        [
         "Myrtle Beach",
         33.72119766666666,
         -78.95597833333333,
         646689.0
        ],
        [
         "Seattle",
         47.533997,
         -122.371605,
         1049800.0
        ],
        [
         "Royse City",
         32.931873,
         -96.33741,
         464900.0
        ],
        [
         "Coeur D Alene",
         47.733894,
         -116.84627,
         1107800.0
        ],
        [
         "Bayside Hills",
         40.750908,
         -73.76669,
         1288000.0
        ],
        [
         "Port Saint Lucie",
         27.211676,
         -80.31966,
         649900.0
        ],
        [
         "Evans",
         33.53178,
         -82.11121,
         239900.0
        ],
        [
         "Ellensburg",
         47.02534,
         -120.56966,
         454995.0
        ],
        [
         "Gainesville",
         34.24143,
         -83.91071,
         514900.0
        ],
        [
         "Littleton",
         39.490578,
         -105.03535,
         624900.0
        ],
        [
         "Staten Island",
         40.524548,
         -74.2129,
         1549000.0
        ],
        [
         "Castle Rock",
         39.40634,
         -104.888405,
         609100.0
        ],
        [
         "Factoryville",
         41.573284,
         -75.79049,
         725000.0
        ],
        [
         "Southport",
         33.938965,
         -78.12102,
         799000.0
        ],
        [
         "Leyden",
         42.70262,
         -72.609985,
         825000.0
        ],
        [
         "Gunnison",
         38.755264,
         -107.042206,
         2995000.0
        ],
        [
         "Frederick",
         39.38868,
         -77.45059,
         550000.0
        ],
        [
         "Clinton",
         38.75459,
         -76.88346,
         554000.0
        ],
        [
         "Sugar Land",
         29.567156,
         -95.67245,
         579999.0
        ],
        [
         "Fredericksburg",
         38.364243,
         -77.59844,
         677278.0
        ],
        [
         "Lake Charles",
         30.233204,
         -93.21519,
         449500.0
        ],
        [
         "Patterson",
         37.480343,
         -121.13703,
         699000.0
        ],
        [
         "China Grove",
         35.55984,
         -80.60155,
         355000.0
        ],
        [
         "West Bend",
         43.38143,
         -88.223,
         2200000.0
        ],
        [
         "Anthony",
         31.96521,
         -106.60069,
         334950.0
        ],
        [
         "Claude",
         35.108147,
         -101.36361,
         329000.0
        ],
        [
         "Huntsville",
         34.71834,
         -86.57559,
         919000.0
        ],
        [
         "Kansas City",
         39.268234,
         -94.62675,
         385000.0
        ],
        [
         "Laurel",
         39.127247,
         -76.84177,
         642500.0
        ],
        [
         "Urbandale",
         41.644962,
         -93.73172,
         295025.0
        ],
        [
         "Henderson",
         35.9911405,
         -115.04590999999999,
         685333.3333
        ],
        [
         "Mooresville",
         35.650444,
         -80.89504,
         721875.0
        ],
        [
         "White",
         34.27412,
         -84.73779,
         390000.0
        ],
        [
         "Pittsfield",
         42.43123,
         -73.212456,
         449000.0
        ],
        [
         "Gordon",
         32.58168,
         -98.30877,
         599000.0
        ],
        [
         "Missoula",
         46.89663,
         -114.11839,
         0.0
        ],
        [
         "Saint Louis",
         38.6526,
         -90.19727,
         250000.0
        ],
        [
         "Salisbury",
         35.607185,
         -80.43626,
         386750.0
        ],
        [
         "Quincy",
         39.887535,
         -91.3619,
         485000.0
        ],
        [
         "Greenfield",
         39.790443,
         -85.810555,
         254485.0
        ],
        [
         "Suffolk",
         36.770844,
         -76.56576,
         420000.0
        ],
        [
         "Elkhart",
         41.71149,
         -85.97841,
         860000.0
        ],
        [
         "Windsor",
         40.49064,
         -104.89204,
         1047899.0
        ],
        [
         "Galloway",
         39.936054,
         -83.156136,
         290000.0
        ],
        [
         "Pineville",
         35.04255,
         -80.87056,
         590000.0
        ],
        [
         "Hamilton",
         39.41067,
         -84.4563,
         667500.0
        ],
        [
         "Splendora",
         30.249777,
         -95.20432,
         258990.0
        ],
        [
         "Angier",
         35.540615,
         -78.75422,
         483700.0
        ],
        [
         "Winter Springs",
         28.653738,
         -81.280556,
         424900.0
        ],
        [
         "Billings",
         45.74025,
         -108.56611,
         499975.0
        ],
        [
         "Roanoke",
         37.29504,
         -79.97008,
         298900.0
        ],
        [
         "Tucson",
         32.22727533333333,
         -110.90147666666667,
         763000.0
        ],
        [
         "Palm Coast",
         29.512182,
         -81.21886,
         648900.0
        ],
        [
         "Sarasota",
         27.2844735,
         -82.50180700000001,
         863650.0
        ],
        [
         "Alpine",
         32.85061,
         -116.75602,
         1325000.0
        ],
        [
         "Arnold",
         38.419395,
         -90.37764,
         450600.0
        ],
        [
         "Snellville",
         33.81079,
         -84.01293,
         655000.0
        ],
        [
         "San Luis Obispo",
         35.258934,
         -120.68052,
         955000.0
        ],
        [
         "Grain Valley",
         38.99716,
         -94.22224,
         395000.0
        ],
        [
         "Bay Point",
         38.030178,
         -121.97546,
         630000.0
        ],
        [
         "Cape Coral",
         26.644273666666667,
         -81.99037333333332,
         776633.0
        ],
        [
         "Canton",
         34.170097,
         -84.394104,
         1240500.0
        ],
        [
         "Neenah",
         44.156002,
         -88.440155,
         1595000.0
        ],
        [
         "Houston",
         29.8639805,
         -95.46030149999999,
         481447.0
        ],
        [
         "Maiden",
         35.56816,
         -81.05906,
         425000.0
        ],
        [
         "Woonsocket",
         42.011597,
         -71.505714,
         500000.0
        ],
        [
         "Plantation",
         26.11799,
         -80.24987,
         765000.0
        ],
        [
         "Santa Barbara",
         34.4487465,
         -119.7353,
         8622500.0
        ],
        [
         "Boca Raton",
         26.357388,
         -80.08002,
         6250000.0
        ],
        [
         "Lebanon",
         36.22477,
         -86.275024,
         465000.0
        ],
        [
         "Copperas Cove",
         31.08537,
         -97.92306,
         499900.0
        ],
        [
         "New Waverly",
         30.523354,
         -95.39097,
         700000.0
        ],
        [
         "Denton",
         35.612877,
         -80.22595,
         1499000.0
        ],
        [
         "Jacksonville",
         30.196608,
         -81.816216,
         365000.0
        ],
        [
         "Nampa",
         43.635757,
         -116.569595,
         0.0
        ],
        [
         "Rowlett",
         32.90988,
         -96.5621,
         0.0
        ],
        [
         "Des Moines",
         41.677193,
         -93.6064,
         449000.0
        ],
        [
         "Fremont",
         41.426136,
         -96.51679,
         459900.0
        ],
        [
         "Jonesboro",
         35.829384,
         -90.72516,
         299900.0
        ],
        [
         "Havelock",
         34.934414,
         -76.8173,
         354999.0
        ],
        [
         "Corvallis",
         44.595634,
         -123.313416,
         463437.0
        ],
        [
         "Virginia Beach",
         36.8005285,
         -76.0261,
         1799700.0
        ],
        [
         "Cordova",
         35.14287,
         -89.787605,
         232000.0
        ],
        [
         "Elgin",
         30.370356,
         -97.39806,
         347170.0
        ],
        [
         "New Hope",
         40.365803,
         -75.024345,
         1995000.0
        ],
        [
         "Murrieta",
         33.619125,
         -117.12593,
         775000.0
        ],
        [
         "Kalispell",
         48.26756,
         -114.29883,
         1295000.0
        ],
        [
         "Camas",
         45.649384,
         -122.45725,
         468135.0
        ],
        [
         "North Myrtle Beach",
         33.80338,
         -78.75545,
         466440.0
        ],
        [
         "Knoxville",
         35.859425,
         -84.11145,
         671300.0
        ],
        [
         "Brookline",
         42.762268,
         -71.69799,
         899000.0
        ],
        [
         "Brandon",
         27.975142,
         -82.30411,
         308000.0
        ],
        [
         "Buena Vista",
         38.861782,
         -106.14387,
         695000.0
        ],
        [
         "Union City",
         37.596428,
         -122.05366,
         1635000.0
        ],
        [
         "Clearfield",
         41.129692,
         -112.08479,
         669000.0
        ],
        [
         "Park City",
         40.723583,
         -111.50146,
         0.0
        ],
        [
         "New Port Richey",
         28.284786,
         -82.621376,
         486900.0
        ],
        [
         "Palm Beach Gardens",
         26.837797,
         -80.06711,
         5750000.0
        ],
        [
         "Bal Harbour",
         25.88963,
         -80.12816,
         2.15E7
        ],
        [
         "East Palestine",
         40.832764,
         -80.530045,
         51000.0
        ],
        [
         "Pt Royal",
         32.382942,
         -80.68389,
         210000.0
        ],
        [
         "Cumming",
         34.300053,
         -84.103645,
         687000.0
        ],
        [
         "Reddick",
         29.325045,
         -82.254944,
         2000000.0
        ],
        [
         "Leesburg",
         28.839054,
         -81.88329,
         390900.0
        ],
        [
         "North Ogden",
         41.31656,
         -111.95072,
         569900.0
        ],
        [
         "Columbia",
         34.547124999999994,
         -83.00601666666667,
         275756.6667
        ],
        [
         "Zephyrhills",
         28.22576,
         -82.2015,
         359990.0
        ],
        [
         "Green Cove Springs",
         30.040144,
         -81.79669,
         432000.0
        ],
        [
         "Richmond",
         29.671307,
         -95.71501,
         453200.0
        ],
        [
         "Lyndora",
         40.85698,
         -79.91227,
         189000.0
        ],
        [
         "Lake Ariel",
         41.43036,
         -75.35663,
         287550.0
        ],
        [
         "Mesa",
         33.423233,
         -111.64022,
         354000.0
        ],
        [
         "Towson",
         39.414707,
         -76.56913,
         1053796.0
        ],
        [
         "Beverly Hills",
         34.094036,
         -118.43245,
         4.95E7
        ],
        [
         "Orlando",
         28.482853,
         -81.23036,
         404280.0
        ],
        [
         "Huntley",
         42.170353,
         -88.42146,
         445000.0
        ],
        [
         "Adrian",
         41.901913,
         -84.0858,
         314900.0
        ],
        [
         "Pensacola",
         30.509968,
         -87.382835,
         429900.0
        ],
        [
         "Fort Myers",
         26.512592,
         -81.91025,
         350000.0
        ],
        [
         "Mount Juliet",
         36.250553,
         -86.549,
         599900.0
        ],
        [
         "Lawrence",
         38.99234,
         -95.2842,
         389900.0
        ],
        [
         "Charlotte",
         35.30465,
         -80.699196,
         454500.0
        ],
        [
         "Sanford",
         28.755005,
         -81.23958,
         460000.0
        ],
        [
         "Olathe",
         38.870895,
         -94.877846,
         569915.0
        ],
        [
         "Lake Oswego",
         45.435284,
         -122.71725,
         610000.0
        ],
        [
         "Rancho Mirage",
         33.79948,
         -116.44157,
         690000.0
        ],
        [
         "Mountain View",
         37.39528,
         -122.09122,
         2098000.0
        ],
        [
         "Davenport",
         28.212967000000003,
         -81.63048633333334,
         483332.0
        ],
        [
         "Humble",
         30.052744,
         -95.21374,
         340000.0
        ],
        [
         "Marietta",
         33.878635,
         -84.56494,
         490000.0
        ],
        [
         "Roseville",
         38.78803,
         -121.29681,
         650000.0
        ],
        [
         "Woodinville",
         47.734486,
         -122.050705,
         1375000.0
        ],
        [
         "Bismarck",
         46.829075,
         -100.77679,
         294900.0
        ],
        [
         "Plant City",
         27.973589,
         -82.16294,
         412900.0
        ],
        [
         "Parker",
         39.499233,
         -104.803055,
         860000.0
        ],
        [
         "Katy",
         29.85022,
         -95.80891,
         299000.0
        ],
        [
         "Ruidoso",
         33.34259,
         -105.65831,
         474900.0
        ],
        [
         "Federal Way",
         47.298782,
         -122.37749,
         550000.0
        ],
        [
         "Osage Beach",
         38.122604,
         -92.65287,
         799900.0
        ],
        [
         "Tonka Bay",
         44.90712,
         -93.59103,
         1300000.0
        ],
        [
         "Athol",
         48.01801,
         -116.665344,
         1795010.0
        ],
        [
         "Longs",
         33.793118,
         -78.787704,
         342990.0
        ],
        [
         "Fort Worth",
         32.616311499999995,
         -97.32917,
         397995.0
        ],
        [
         "Denver",
         38.327915999999995,
         -96.93696333333332,
         1178000.0
        ],
        [
         "Sugar Valley",
         34.55622,
         -85.0215,
         950000.0
        ],
        [
         "Hollis",
         42.7586885,
         -71.61276000000001,
         1519950.0
        ],
        [
         "Homestead",
         40.408173,
         -79.900475,
         149900.0
        ],
        [
         "Leland",
         34.293064,
         -78.14877,
         414900.0
        ],
        [
         "Belle Fourche",
         44.65335,
         -103.84898,
         439900.0
        ],
        [
         "Prescott",
         34.522633,
         -112.48551,
         765000.0
        ],
        [
         "East Falmouth",
         41.636703,
         -70.59786,
         1329000.0
        ],
        [
         "Douglasville",
         33.68174,
         -84.68221,
         332900.0
        ],
        [
         "Bermuda Run",
         36.01309,
         -80.43292,
         428000.0
        ]
       ],
       "datasetInfos": [],
       "dbfsResultPath": null,
       "isJsonSchema": true,
       "metadata": {},
       "overflow": false,
       "plotOptions": {
        "customPlotOptions": {},
        "displayType": "table",
        "pivotAggregation": null,
        "pivotColumns": null,
        "xColumns": null,
        "yColumns": null
       },
       "removedWidgets": [],
       "schema": [
        {
         "metadata": "{}",
         "name": "City",
         "type": "\"string\""
        },
        {
         "metadata": "{}",
         "name": "LATITUDE",
         "type": "\"double\""
        },
        {
         "metadata": "{}",
         "name": "LONGITUDE",
         "type": "\"double\""
        },
        {
         "metadata": "{}",
         "name": "PRICE",
         "type": "\"double\""
        }
       ],
       "type": "table"
      }
     },
     "output_type": "display_data"
    }
   ],
   "source": [
    "from pyspark.sql import functions as F\n",
    "final_df = spark.sql(result)\n",
    "\n",
    "final_display = final_df.groupBy(\"City\").agg(F.mean('LATITUDE').cast('DOUBLE').alias('LATITUDE'), F.mean('LONGITUDE').alias('LONGITUDE'), F.mean('Price').cast('DOUBLE').alias('PRICE'))\n",
    "\n",
    "df_plot = final_display.toPandas()\n",
    "\n",
    "display(df_plot)\n"
   ]
  },
  {
   "cell_type": "code",
   "execution_count": 0,
   "metadata": {
    "application/vnd.databricks.v1+cell": {
     "cellMetadata": {
      "byteLimit": 2048000,
      "rowLimit": 10000
     },
     "inputWidgets": {},
     "nuid": "88908027-b4c0-490f-9b65-bf2310ff906f",
     "showTitle": false,
     "title": ""
    }
   },
   "outputs": [
    {
     "output_type": "display_data",
     "data": {
      "text/html": [
       "<html>\n",
       "<head><meta charset=\"utf-8\" /></head>\n",
       "<body>\n",
       "    <div>            <script src=\"https://cdnjs.cloudflare.com/ajax/libs/mathjax/2.7.5/MathJax.js?config=TeX-AMS-MML_SVG\"></script><script type=\"text/javascript\">if (window.MathJax && window.MathJax.Hub && window.MathJax.Hub.Config) {window.MathJax.Hub.Config({SVG: {font: \"STIX-Web\"}});}</script>                <script type=\"text/javascript\">window.PlotlyConfig = {MathJaxConfig: 'local'};</script>\n",
       "        <script src=\"https://cdn.plot.ly/plotly-2.12.1.min.js\"></script>                <div id=\"5a5a5fd2-6834-4035-8f88-62062ab09ff4\" class=\"plotly-graph-div\" style=\"height:600px; width:800px;\"></div>            <script type=\"text/javascript\">                                    window.PLOTLYENV=window.PLOTLYENV || {};                                    if (document.getElementById(\"5a5a5fd2-6834-4035-8f88-62062ab09ff4\")) {                    Plotly.newPlot(                        \"5a5a5fd2-6834-4035-8f88-62062ab09ff4\",                        [{\"hovertemplate\":\"PRICE=%{marker.color}<br>LATITUDE=%{lat}<br>LONGITUDE=%{lon}<extra></extra>\",\"lat\":[32.32733,42.141712,40.339207,37.66069,33.963272,33.982054,26.640866666666668,36.30251,34.056335,40.9881,41.64775,38.25894,31.13863,25.99451,41.752483,33.469124,29.835382,37.265263,28.305532,34.16926,39.03108,41.27281,40.60505,46.287586,38.63688,30.235945,39.2506,35.34537,40.25005,26.130423,36.187737,34.998283,33.294901,36.235783,35.23973,42.93748,46.847694,33.652245,34.9179875,31.18471,29.453821,35.300076,47.771317,44.020138,38.38874,35.80746425,38.834816,47.868473,48.99764,38.152554,28.042023,30.036463,28.611174,35.061974,34.1010334,41.132767,32.221832,36.364517,38.73989,36.579888499999996,33.58282,29.784822,30.027784,30.207676,41.2692925,33.94918,48.31109733333333,35.491966,34.03627,34.597652,33.779907,36.153786,37.73033,30.282711,42.492966,33.425938,39.019794,38.464363,29.793707,38.67027,40.281593,39.85511,33.6629475,30.11767,26.274311,30.315071,37.50916,34.15854,33.159027,39.65675,35.16978,43.096905,41.150253,31.878674,42.468773,35.62916,45.24268,27.562016,38.701935,33.47775,37.602608,38.91017,33.624626,39.08582,43.315838,38.96607,33.056335,27.414015,34.158264,34.083893,32.579814999999996,33.68756,38.99162,45.255424,34.749554,33.99255,30.282862,28.088648,31.7586585,41.36089,38.766605,39.91874,27.855278,34.138332,33.583015,39.25868,30.053453,33.322577499999994,34.536797,25.167858,28.175745,32.7837865,42.795135,38.637054,41.81093,28.68703,39.53728,31.42836,25.839817,32.208145,27.891623,41.119087,29.839437,40.12168,32.864746,37.568996,26.154997,30.47606,42.09915,32.694542,30.705479,34.48054,27.66976,39.546366,32.865173,42.231934,32.565662,37.715603,39.517883,29.994274,40.07262,41.235954,40.596115,27.668809500000002,44.654587,32.875618,34.918316,32.39164,39.71948,39.881676,45.234146,32.683346,47.12026,34.29924,26.7982,32.72181,45.476547,35.652553,28.765934,38.94294,33.714286666666666,33.66573,46.955666,41.21414,35.796917,37.86464,35.008286,36.204079,34.036114,29.557875,35.585117,40.57621,48.067895,42.743134,39.85215,38.066425,39.65891,32.639576,35.573864,39.905094,34.1504,33.72119766666666,47.533997,32.931873,47.733894,40.750908,27.211676,33.53178,47.02534,34.24143,39.490578,40.524548,39.40634,41.573284,33.938965,42.70262,38.755264,39.38868,38.75459,29.567156,38.364243,30.233204,37.480343,35.55984,43.38143,31.96521,35.108147,34.71834,39.268234,39.127247,41.644962,35.9911405,35.650444,34.27412,42.43123,32.58168,46.89663,38.6526,35.607185,39.887535,39.790443,36.770844,41.71149,40.49064,39.936054,35.04255,39.41067,30.249777,35.540615,28.653738,45.74025,37.29504,32.22727533333333,29.512182,27.2844735,32.85061,38.419395,33.81079,35.258934,38.99716,38.030178,26.644273666666667,34.170097,44.156002,29.8639805,35.56816,42.011597,26.11799,34.4487465,26.357388,36.22477,31.08537,30.523354,35.612877,30.196608,43.635757,32.90988,41.677193,41.426136,35.829384,34.934414,44.595634,36.8005285,35.14287,30.370356,40.365803,33.619125,48.26756,45.649384,33.80338,35.859425,42.762268,27.975142,38.861782,37.596428,41.129692,40.723583,28.284786,26.837797,25.88963,40.832764,32.382942,34.300053,29.325045,28.839054,41.31656,34.547124999999994,28.22576,30.040144,29.671307,40.85698,41.43036,33.423233,39.414707,34.094036,28.482853,42.170353,41.901913,30.509968,26.512592,36.250553,38.99234,35.30465,28.755005,38.870895,45.435284,33.79948,37.39528,28.212967000000003,30.052744,33.878635,38.78803,47.734486,46.829075,27.973589,39.499233,29.85022,33.34259,47.298782,38.122604,44.90712,48.01801,33.793118,32.616311499999995,38.327915999999995,34.55622,42.7586885,40.408173,34.293064,44.65335,34.522633,41.636703,33.68174,36.01309],\"legendgroup\":\"\",\"lon\":[-95.192955,-73.41186,-76.73647,-85.25994,-117.60413,-84.02543750000001,-80.23280466666667,-115.16812,-83.799805,-73.71914,-88.21316,-84.5196,-81.49299,-80.379684,-124.20798,-84.18112,-98.37462,-107.01487,-80.608315,-84.856895,-119.72226,-96.156228,-75.46818,-96.59295,-77.37001,-85.911354,-76.6882,-81.98022,-105.830284,-80.41552,-82.77781,-85.143364,-92.84660633333333,-94.12244,-89.49426,-83.78766,-96.91928,-117.64274,-87.30815999999999,-97.44688,-98.638565,-119.074875,-122.31745,-121.304825,-121.40938,-78.62687125,-77.11041,-122.286095,-122.71125,-85.792404,-81.503624,-94.947334,-82.51886,-79.029686,-118.31667780000001,-73.26132,-96.07373,-119.27694,-77.456345,-87.31176500000001,-112.41562,-98.291504,-81.53845,-84.33303,-96.2212725,-83.60067,-116.53870966666666,-120.42681,-117.78889,-83.72528,-84.65437,-86.80327199999999,-122.496254,-95.580605,-83.25143,-112.25494,-94.30934,-122.671364,-98.6958,-90.97308,-79.51828,-75.478874,-84.0070375,-81.63272,-98.20604,-86.11777,-122.272415,-79.747505,-96.47842,-76.33305,-97.415596,-86.18369,-104.836525,-81.25827,-70.96088,-78.44146,-93.40544,-82.507225,-93.30796,-86.80183,-97.13885,-77.238,-111.72333,-94.36765,-72.829124,-94.872795,-85.01678,-82.43796,-118.53142,-83.93109,-96.85621499999999,-116.962326,-94.27921,-93.25371,-112.11488,-118.45832,-97.759384,-82.74597,-106.287234,-75.05803,-75.36199,-82.7426,-82.182434,-118.17644,-84.327835,-119.96261,-95.34988,-111.70852500000001,-82.64978,-80.38166,-81.24223,-96.630758,-84.61255,-76.63833,-70.56879,-81.47532,-107.777306,-89.62209,-80.13142,-95.80774,-82.493416,-96.03467,-89.75524,-76.61712,-96.463196,-76.34679,-80.12467,-88.98276,-83.6848,-95.96178,-87.889175,-84.27962,-82.329895,-104.96190166666668,-97.704956,-121.82185,-94.698616,-76.50297,-79.314995,-95.64058,-105.047585,-85.85506,-112.040054,-97.366147,-124.048485,-97.15241,-111.82112,-97.73227,-75.645035,-104.77248,-93.52724,-96.40327,-122.28279,-118.58458,-81.7416,-83.70353,-98.464584,-97.521462,-95.6376,-77.183675,-84.43909133333334,-84.20721,-122.61464,-76.18911,-86.440704,-122.04767,-79.35649,-115.27062700000002,-81.169365,-95.30124,-77.30147,-73.951096,-122.13677133333333,-73.98533,-120.41729,-78.47147,-91.73501,-96.53832,-80.99127,-82.80713,-81.34808,-78.95597833333333,-122.371605,-96.33741,-116.84627,-73.76669,-80.31966,-82.11121,-120.56966,-83.91071,-105.03535,-74.2129,-104.888405,-75.79049,-78.12102,-72.609985,-107.042206,-77.45059,-76.88346,-95.67245,-77.59844,-93.21519,-121.13703,-80.60155,-88.223,-106.60069,-101.36361,-86.57559,-94.62675,-76.84177,-93.73172,-115.04590999999999,-80.89504,-84.73779,-73.212456,-98.30877,-114.11839,-90.19727,-80.43626,-91.3619,-85.810555,-76.56576,-85.97841,-104.89204,-83.156136,-80.87056,-84.4563,-95.20432,-78.75422,-81.280556,-108.56611,-79.97008,-110.90147666666667,-81.21886,-82.50180700000001,-116.75602,-90.37764,-84.01293,-120.68052,-94.22224,-121.97546,-81.99037333333332,-84.394104,-88.440155,-95.46030149999999,-81.05906,-71.505714,-80.24987,-119.7353,-80.08002,-86.275024,-97.92306,-95.39097,-80.22595,-81.816216,-116.569595,-96.5621,-93.6064,-96.51679,-90.72516,-76.8173,-123.313416,-76.0261,-89.787605,-97.39806,-75.024345,-117.12593,-114.29883,-122.45725,-78.75545,-84.11145,-71.69799,-82.30411,-106.14387,-122.05366,-112.08479,-111.50146,-82.621376,-80.06711,-80.12816,-80.530045,-80.68389,-84.103645,-82.254944,-81.88329,-111.95072,-83.00601666666667,-82.2015,-81.79669,-95.71501,-79.91227,-75.35663,-111.64022,-76.56913,-118.43245,-81.23036,-88.42146,-84.0858,-87.382835,-81.91025,-86.549,-95.2842,-80.699196,-81.23958,-94.877846,-122.71725,-116.44157,-122.09122,-81.63048633333334,-95.21374,-84.56494,-121.29681,-122.050705,-100.77679,-82.16294,-104.803055,-95.80891,-105.65831,-122.37749,-92.65287,-93.59103,-116.665344,-78.787704,-97.32917,-96.93696333333332,-85.0215,-71.61276000000001,-79.900475,-78.14877,-103.84898,-112.48551,-70.59786,-84.68221,-80.43292],\"marker\":{\"color\":[0.0,995000.0,348990.0,899900.0,990000.0,421000.0,1233400.0,566340.0,1699000.0,2995000.0,477599.0,483800.0,335000.0,1225000.0,460000.0,365000.0,849900.0,2200000.0,2850000.0,294500.0,630000.0,269850.0,213500.0,499900.0,600000.0,749900.0,342400.0,445000.0,560000.0,2095000.0,314550.0,500000.0,447033.3333,400000.0,300000.0,458000.0,319900.0,975000.0,541957.0,0.0,309950.0,411800.0,680000.0,736400.0,815000.0,453097.5,628000.0,1050000.0,1649000.0,585000.0,375000.0,825000.0,339990.0,370000.0,2209440.0,1649000.0,0.0,995000.0,630000.0,389750.0,503990.0,575000.0,730000.0,315900.0,581950.0,389900.0,615666.6667,1150000.0,1600000.0,1075000.0,329700.0,795350.0,2280000.0,0.0,300000.0,360000.0,299000.0,720000.0,767700.0,235000.0,299900.0,383500.0,417724.5,649900.0,785000.0,2825000.0,3711800.0,255000.0,365990.0,877700.0,440840.0,583625.0,690000.0,477000.0,805000.0,297694.0,395000.0,439945.0,799000.0,1190000.0,530000.0,822100.0,836200.0,0.0,1050000.0,0.0,210000.0,700000.0,1905700.0,288500.0,414500.0,499900.0,509900.0,625000.0,888000.0,3231400.0,2200000.0,619900.0,214975.0,549000.0,525000.0,689718.0,944900.0,1598400.0,305000.0,8250000.0,328000.0,480000.0,479999.0,1950000.0,324990.0,0.0,338700.0,669888.0,960000.0,427000.0,998000.0,549900.0,2050000.0,9999000.0,382500.0,647375.0,316100.0,1250000.0,1589500.0,389000.0,2500000.0,315000.0,374000.0,355000.0,544900.0,785000.0,346990.0,1276000.0,1210400.0,424200.0,704765.0,949000.0,2899000.0,369900.0,1040000.0,40000.0,789900.0,386950.0,575000.0,949000.0,3100000.0,355000.0,438500.0,500000.0,479990.0,789900.0,559000.0,2350000.0,519999.0,291490.0,418900.0,487900.0,348862.0,2842500.0,551666.6667,585000.0,464600.0,400000.0,585271.0,4175000.0,314737.0,517600.0,419500.0,330000.0,294990.0,2488000.0,593996.6667,699900.0,940000.0,892000.0,243800.0,352000.0,381095.0,278000.0,340789.0,646689.0,1049800.0,464900.0,1107800.0,1288000.0,649900.0,239900.0,454995.0,514900.0,624900.0,1549000.0,609100.0,725000.0,799000.0,825000.0,2995000.0,550000.0,554000.0,579999.0,677278.0,449500.0,699000.0,355000.0,2200000.0,334950.0,329000.0,919000.0,385000.0,642500.0,295025.0,685333.3333,721875.0,390000.0,449000.0,599000.0,0.0,250000.0,386750.0,485000.0,254485.0,420000.0,860000.0,1047899.0,290000.0,590000.0,667500.0,258990.0,483700.0,424900.0,499975.0,298900.0,763000.0,648900.0,863650.0,1325000.0,450600.0,655000.0,955000.0,395000.0,630000.0,776633.0,1240500.0,1595000.0,481447.0,425000.0,500000.0,765000.0,8622500.0,6250000.0,465000.0,499900.0,700000.0,1499000.0,365000.0,0.0,0.0,449000.0,459900.0,299900.0,354999.0,463437.0,1799700.0,232000.0,347170.0,1995000.0,775000.0,1295000.0,468135.0,466440.0,671300.0,899000.0,308000.0,695000.0,1635000.0,669000.0,0.0,486900.0,5750000.0,21500000.0,51000.0,210000.0,687000.0,2000000.0,390900.0,569900.0,275756.6667,359990.0,432000.0,453200.0,189000.0,287550.0,354000.0,1053796.0,49500000.0,404280.0,445000.0,314900.0,429900.0,350000.0,599900.0,389900.0,454500.0,460000.0,569915.0,610000.0,690000.0,2098000.0,483332.0,340000.0,490000.0,650000.0,1375000.0,294900.0,412900.0,860000.0,299000.0,474900.0,550000.0,799900.0,1300000.0,1795010.0,342990.0,397995.0,1178000.0,950000.0,1519950.0,149900.0,414900.0,439900.0,765000.0,1329000.0,332900.0,428000.0],\"coloraxis\":\"coloraxis\",\"size\":[0.0,995000.0,348990.0,899900.0,990000.0,421000.0,1233400.0,566340.0,1699000.0,2995000.0,477599.0,483800.0,335000.0,1225000.0,460000.0,365000.0,849900.0,2200000.0,2850000.0,294500.0,630000.0,269850.0,213500.0,499900.0,600000.0,749900.0,342400.0,445000.0,560000.0,2095000.0,314550.0,500000.0,447033.3333,400000.0,300000.0,458000.0,319900.0,975000.0,541957.0,0.0,309950.0,411800.0,680000.0,736400.0,815000.0,453097.5,628000.0,1050000.0,1649000.0,585000.0,375000.0,825000.0,339990.0,370000.0,2209440.0,1649000.0,0.0,995000.0,630000.0,389750.0,503990.0,575000.0,730000.0,315900.0,581950.0,389900.0,615666.6667,1150000.0,1600000.0,1075000.0,329700.0,795350.0,2280000.0,0.0,300000.0,360000.0,299000.0,720000.0,767700.0,235000.0,299900.0,383500.0,417724.5,649900.0,785000.0,2825000.0,3711800.0,255000.0,365990.0,877700.0,440840.0,583625.0,690000.0,477000.0,805000.0,297694.0,395000.0,439945.0,799000.0,1190000.0,530000.0,822100.0,836200.0,0.0,1050000.0,0.0,210000.0,700000.0,1905700.0,288500.0,414500.0,499900.0,509900.0,625000.0,888000.0,3231400.0,2200000.0,619900.0,214975.0,549000.0,525000.0,689718.0,944900.0,1598400.0,305000.0,8250000.0,328000.0,480000.0,479999.0,1950000.0,324990.0,0.0,338700.0,669888.0,960000.0,427000.0,998000.0,549900.0,2050000.0,9999000.0,382500.0,647375.0,316100.0,1250000.0,1589500.0,389000.0,2500000.0,315000.0,374000.0,355000.0,544900.0,785000.0,346990.0,1276000.0,1210400.0,424200.0,704765.0,949000.0,2899000.0,369900.0,1040000.0,40000.0,789900.0,386950.0,575000.0,949000.0,3100000.0,355000.0,438500.0,500000.0,479990.0,789900.0,559000.0,2350000.0,519999.0,291490.0,418900.0,487900.0,348862.0,2842500.0,551666.6667,585000.0,464600.0,400000.0,585271.0,4175000.0,314737.0,517600.0,419500.0,330000.0,294990.0,2488000.0,593996.6667,699900.0,940000.0,892000.0,243800.0,352000.0,381095.0,278000.0,340789.0,646689.0,1049800.0,464900.0,1107800.0,1288000.0,649900.0,239900.0,454995.0,514900.0,624900.0,1549000.0,609100.0,725000.0,799000.0,825000.0,2995000.0,550000.0,554000.0,579999.0,677278.0,449500.0,699000.0,355000.0,2200000.0,334950.0,329000.0,919000.0,385000.0,642500.0,295025.0,685333.3333,721875.0,390000.0,449000.0,599000.0,0.0,250000.0,386750.0,485000.0,254485.0,420000.0,860000.0,1047899.0,290000.0,590000.0,667500.0,258990.0,483700.0,424900.0,499975.0,298900.0,763000.0,648900.0,863650.0,1325000.0,450600.0,655000.0,955000.0,395000.0,630000.0,776633.0,1240500.0,1595000.0,481447.0,425000.0,500000.0,765000.0,8622500.0,6250000.0,465000.0,499900.0,700000.0,1499000.0,365000.0,0.0,0.0,449000.0,459900.0,299900.0,354999.0,463437.0,1799700.0,232000.0,347170.0,1995000.0,775000.0,1295000.0,468135.0,466440.0,671300.0,899000.0,308000.0,695000.0,1635000.0,669000.0,0.0,486900.0,5750000.0,21500000.0,51000.0,210000.0,687000.0,2000000.0,390900.0,569900.0,275756.6667,359990.0,432000.0,453200.0,189000.0,287550.0,354000.0,1053796.0,49500000.0,404280.0,445000.0,314900.0,429900.0,350000.0,599900.0,389900.0,454500.0,460000.0,569915.0,610000.0,690000.0,2098000.0,483332.0,340000.0,490000.0,650000.0,1375000.0,294900.0,412900.0,860000.0,299000.0,474900.0,550000.0,799900.0,1300000.0,1795010.0,342990.0,397995.0,1178000.0,950000.0,1519950.0,149900.0,414900.0,439900.0,765000.0,1329000.0,332900.0,428000.0],\"sizemode\":\"area\",\"sizeref\":123750.0,\"opacity\":0.8,\"symbol\":\"circle\"},\"mode\":\"markers\",\"name\":\"Average Price\",\"showlegend\":false,\"subplot\":\"mapbox\",\"type\":\"scattermapbox\"}],                        {\"template\":{\"data\":{\"histogram2dcontour\":[{\"type\":\"histogram2dcontour\",\"colorbar\":{\"outlinewidth\":0,\"ticks\":\"\"},\"colorscale\":[[0.0,\"#0d0887\"],[0.1111111111111111,\"#46039f\"],[0.2222222222222222,\"#7201a8\"],[0.3333333333333333,\"#9c179e\"],[0.4444444444444444,\"#bd3786\"],[0.5555555555555556,\"#d8576b\"],[0.6666666666666666,\"#ed7953\"],[0.7777777777777778,\"#fb9f3a\"],[0.8888888888888888,\"#fdca26\"],[1.0,\"#f0f921\"]]}],\"choropleth\":[{\"type\":\"choropleth\",\"colorbar\":{\"outlinewidth\":0,\"ticks\":\"\"}}],\"histogram2d\":[{\"type\":\"histogram2d\",\"colorbar\":{\"outlinewidth\":0,\"ticks\":\"\"},\"colorscale\":[[0.0,\"#0d0887\"],[0.1111111111111111,\"#46039f\"],[0.2222222222222222,\"#7201a8\"],[0.3333333333333333,\"#9c179e\"],[0.4444444444444444,\"#bd3786\"],[0.5555555555555556,\"#d8576b\"],[0.6666666666666666,\"#ed7953\"],[0.7777777777777778,\"#fb9f3a\"],[0.8888888888888888,\"#fdca26\"],[1.0,\"#f0f921\"]]}],\"heatmap\":[{\"type\":\"heatmap\",\"colorbar\":{\"outlinewidth\":0,\"ticks\":\"\"},\"colorscale\":[[0.0,\"#0d0887\"],[0.1111111111111111,\"#46039f\"],[0.2222222222222222,\"#7201a8\"],[0.3333333333333333,\"#9c179e\"],[0.4444444444444444,\"#bd3786\"],[0.5555555555555556,\"#d8576b\"],[0.6666666666666666,\"#ed7953\"],[0.7777777777777778,\"#fb9f3a\"],[0.8888888888888888,\"#fdca26\"],[1.0,\"#f0f921\"]]}],\"heatmapgl\":[{\"type\":\"heatmapgl\",\"colorbar\":{\"outlinewidth\":0,\"ticks\":\"\"},\"colorscale\":[[0.0,\"#0d0887\"],[0.1111111111111111,\"#46039f\"],[0.2222222222222222,\"#7201a8\"],[0.3333333333333333,\"#9c179e\"],[0.4444444444444444,\"#bd3786\"],[0.5555555555555556,\"#d8576b\"],[0.6666666666666666,\"#ed7953\"],[0.7777777777777778,\"#fb9f3a\"],[0.8888888888888888,\"#fdca26\"],[1.0,\"#f0f921\"]]}],\"contourcarpet\":[{\"type\":\"contourcarpet\",\"colorbar\":{\"outlinewidth\":0,\"ticks\":\"\"}}],\"contour\":[{\"type\":\"contour\",\"colorbar\":{\"outlinewidth\":0,\"ticks\":\"\"},\"colorscale\":[[0.0,\"#0d0887\"],[0.1111111111111111,\"#46039f\"],[0.2222222222222222,\"#7201a8\"],[0.3333333333333333,\"#9c179e\"],[0.4444444444444444,\"#bd3786\"],[0.5555555555555556,\"#d8576b\"],[0.6666666666666666,\"#ed7953\"],[0.7777777777777778,\"#fb9f3a\"],[0.8888888888888888,\"#fdca26\"],[1.0,\"#f0f921\"]]}],\"surface\":[{\"type\":\"surface\",\"colorbar\":{\"outlinewidth\":0,\"ticks\":\"\"},\"colorscale\":[[0.0,\"#0d0887\"],[0.1111111111111111,\"#46039f\"],[0.2222222222222222,\"#7201a8\"],[0.3333333333333333,\"#9c179e\"],[0.4444444444444444,\"#bd3786\"],[0.5555555555555556,\"#d8576b\"],[0.6666666666666666,\"#ed7953\"],[0.7777777777777778,\"#fb9f3a\"],[0.8888888888888888,\"#fdca26\"],[1.0,\"#f0f921\"]]}],\"mesh3d\":[{\"type\":\"mesh3d\",\"colorbar\":{\"outlinewidth\":0,\"ticks\":\"\"}}],\"scatter\":[{\"fillpattern\":{\"fillmode\":\"overlay\",\"size\":10,\"solidity\":0.2},\"type\":\"scatter\"}],\"parcoords\":[{\"type\":\"parcoords\",\"line\":{\"colorbar\":{\"outlinewidth\":0,\"ticks\":\"\"}}}],\"scatterpolargl\":[{\"type\":\"scatterpolargl\",\"marker\":{\"colorbar\":{\"outlinewidth\":0,\"ticks\":\"\"}}}],\"bar\":[{\"error_x\":{\"color\":\"#2a3f5f\"},\"error_y\":{\"color\":\"#2a3f5f\"},\"marker\":{\"line\":{\"color\":\"#E5ECF6\",\"width\":0.5},\"pattern\":{\"fillmode\":\"overlay\",\"size\":10,\"solidity\":0.2}},\"type\":\"bar\"}],\"scattergeo\":[{\"type\":\"scattergeo\",\"marker\":{\"colorbar\":{\"outlinewidth\":0,\"ticks\":\"\"}}}],\"scatterpolar\":[{\"type\":\"scatterpolar\",\"marker\":{\"colorbar\":{\"outlinewidth\":0,\"ticks\":\"\"}}}],\"histogram\":[{\"marker\":{\"pattern\":{\"fillmode\":\"overlay\",\"size\":10,\"solidity\":0.2}},\"type\":\"histogram\"}],\"scattergl\":[{\"type\":\"scattergl\",\"marker\":{\"colorbar\":{\"outlinewidth\":0,\"ticks\":\"\"}}}],\"scatter3d\":[{\"type\":\"scatter3d\",\"line\":{\"colorbar\":{\"outlinewidth\":0,\"ticks\":\"\"}},\"marker\":{\"colorbar\":{\"outlinewidth\":0,\"ticks\":\"\"}}}],\"scattermapbox\":[{\"type\":\"scattermapbox\",\"marker\":{\"colorbar\":{\"outlinewidth\":0,\"ticks\":\"\"}}}],\"scatterternary\":[{\"type\":\"scatterternary\",\"marker\":{\"colorbar\":{\"outlinewidth\":0,\"ticks\":\"\"}}}],\"scattercarpet\":[{\"type\":\"scattercarpet\",\"marker\":{\"colorbar\":{\"outlinewidth\":0,\"ticks\":\"\"}}}],\"carpet\":[{\"aaxis\":{\"endlinecolor\":\"#2a3f5f\",\"gridcolor\":\"white\",\"linecolor\":\"white\",\"minorgridcolor\":\"white\",\"startlinecolor\":\"#2a3f5f\"},\"baxis\":{\"endlinecolor\":\"#2a3f5f\",\"gridcolor\":\"white\",\"linecolor\":\"white\",\"minorgridcolor\":\"white\",\"startlinecolor\":\"#2a3f5f\"},\"type\":\"carpet\"}],\"table\":[{\"cells\":{\"fill\":{\"color\":\"#EBF0F8\"},\"line\":{\"color\":\"white\"}},\"header\":{\"fill\":{\"color\":\"#C8D4E3\"},\"line\":{\"color\":\"white\"}},\"type\":\"table\"}],\"barpolar\":[{\"marker\":{\"line\":{\"color\":\"#E5ECF6\",\"width\":0.5},\"pattern\":{\"fillmode\":\"overlay\",\"size\":10,\"solidity\":0.2}},\"type\":\"barpolar\"}],\"pie\":[{\"automargin\":true,\"type\":\"pie\"}]},\"layout\":{\"autotypenumbers\":\"strict\",\"colorway\":[\"#636efa\",\"#EF553B\",\"#00cc96\",\"#ab63fa\",\"#FFA15A\",\"#19d3f3\",\"#FF6692\",\"#B6E880\",\"#FF97FF\",\"#FECB52\"],\"font\":{\"color\":\"#2a3f5f\"},\"hovermode\":\"closest\",\"hoverlabel\":{\"align\":\"left\"},\"paper_bgcolor\":\"white\",\"plot_bgcolor\":\"#E5ECF6\",\"polar\":{\"bgcolor\":\"#E5ECF6\",\"angularaxis\":{\"gridcolor\":\"white\",\"linecolor\":\"white\",\"ticks\":\"\"},\"radialaxis\":{\"gridcolor\":\"white\",\"linecolor\":\"white\",\"ticks\":\"\"}},\"ternary\":{\"bgcolor\":\"#E5ECF6\",\"aaxis\":{\"gridcolor\":\"white\",\"linecolor\":\"white\",\"ticks\":\"\"},\"baxis\":{\"gridcolor\":\"white\",\"linecolor\":\"white\",\"ticks\":\"\"},\"caxis\":{\"gridcolor\":\"white\",\"linecolor\":\"white\",\"ticks\":\"\"}},\"coloraxis\":{\"colorbar\":{\"outlinewidth\":0,\"ticks\":\"\"}},\"colorscale\":{\"sequential\":[[0.0,\"#0d0887\"],[0.1111111111111111,\"#46039f\"],[0.2222222222222222,\"#7201a8\"],[0.3333333333333333,\"#9c179e\"],[0.4444444444444444,\"#bd3786\"],[0.5555555555555556,\"#d8576b\"],[0.6666666666666666,\"#ed7953\"],[0.7777777777777778,\"#fb9f3a\"],[0.8888888888888888,\"#fdca26\"],[1.0,\"#f0f921\"]],\"sequentialminus\":[[0.0,\"#0d0887\"],[0.1111111111111111,\"#46039f\"],[0.2222222222222222,\"#7201a8\"],[0.3333333333333333,\"#9c179e\"],[0.4444444444444444,\"#bd3786\"],[0.5555555555555556,\"#d8576b\"],[0.6666666666666666,\"#ed7953\"],[0.7777777777777778,\"#fb9f3a\"],[0.8888888888888888,\"#fdca26\"],[1.0,\"#f0f921\"]],\"diverging\":[[0,\"#8e0152\"],[0.1,\"#c51b7d\"],[0.2,\"#de77ae\"],[0.3,\"#f1b6da\"],[0.4,\"#fde0ef\"],[0.5,\"#f7f7f7\"],[0.6,\"#e6f5d0\"],[0.7,\"#b8e186\"],[0.8,\"#7fbc41\"],[0.9,\"#4d9221\"],[1,\"#276419\"]]},\"xaxis\":{\"gridcolor\":\"white\",\"linecolor\":\"white\",\"ticks\":\"\",\"title\":{\"standoff\":15},\"zerolinecolor\":\"white\",\"automargin\":true,\"zerolinewidth\":2},\"yaxis\":{\"gridcolor\":\"white\",\"linecolor\":\"white\",\"ticks\":\"\",\"title\":{\"standoff\":15},\"zerolinecolor\":\"white\",\"automargin\":true,\"zerolinewidth\":2},\"scene\":{\"xaxis\":{\"backgroundcolor\":\"#E5ECF6\",\"gridcolor\":\"white\",\"linecolor\":\"white\",\"showbackground\":true,\"ticks\":\"\",\"zerolinecolor\":\"white\",\"gridwidth\":2},\"yaxis\":{\"backgroundcolor\":\"#E5ECF6\",\"gridcolor\":\"white\",\"linecolor\":\"white\",\"showbackground\":true,\"ticks\":\"\",\"zerolinecolor\":\"white\",\"gridwidth\":2},\"zaxis\":{\"backgroundcolor\":\"#E5ECF6\",\"gridcolor\":\"white\",\"linecolor\":\"white\",\"showbackground\":true,\"ticks\":\"\",\"zerolinecolor\":\"white\",\"gridwidth\":2}},\"shapedefaults\":{\"line\":{\"color\":\"#2a3f5f\"}},\"annotationdefaults\":{\"arrowcolor\":\"#2a3f5f\",\"arrowhead\":0,\"arrowwidth\":1},\"geo\":{\"bgcolor\":\"white\",\"landcolor\":\"#E5ECF6\",\"subunitcolor\":\"white\",\"showland\":true,\"showlakes\":true,\"lakecolor\":\"white\"},\"title\":{\"x\":0.05},\"mapbox\":{\"style\":\"light\"}}},\"mapbox\":{\"domain\":{\"x\":[0.0,1.0],\"y\":[0.0,1.0]},\"center\":{\"lat\":36.20411846746704,\"lon\":-92.93015021953859},\"zoom\":2.5,\"style\":\"carto-positron\"},\"coloraxis\":{\"colorbar\":{\"title\":{\"text\":\"PRICE\"}},\"colorscale\":[[0.0,\"#000000\"],[0.0625,\"#001f4d\"],[0.125,\"#003786\"],[0.1875,\"#0e58a8\"],[0.25,\"#217eb8\"],[0.3125,\"#30a4ca\"],[0.375,\"#54c8df\"],[0.4375,\"#9be4ef\"],[0.5,\"#e1e9d1\"],[0.5625,\"#f3d573\"],[0.625,\"#e7b000\"],[0.6875,\"#da8200\"],[0.75,\"#c65400\"],[0.8125,\"#ac2301\"],[0.875,\"#820000\"],[0.9375,\"#4c0000\"],[1.0,\"#000000\"]]},\"legend\":{\"tracegroupgap\":0,\"itemsizing\":\"constant\",\"font\":{\"color\":\"white\"}},\"margin\":{\"t\":60},\"title\":{\"text\":\"Real Estate Prices\",\"font\":{\"size\":24,\"color\":\"white\"},\"x\":0.5},\"font\":{\"color\":\"white\"},\"paper_bgcolor\":\"black\",\"autosize\":false,\"width\":800,\"height\":600},                        {\"responsive\": true}                    )                };                            </script>        </div>\n",
       "</body>\n",
       "</html>"
      ]
     },
     "metadata": {},
     "output_type": "display_data"
    }
   ],
   "source": [
    "import plotly.express as px\n",
    "\n",
    "# Example dataframe for plotting\n",
    "# df_plot = final_display.toPandas()\n",
    "\n",
    "fig = px.scatter_mapbox(df_plot, lat=\"LATITUDE\", lon=\"LONGITUDE\", color=\"PRICE\",\n",
    "                        size=\"PRICE\", color_continuous_scale=px.colors.cyclical.IceFire,\n",
    "                        size_max=20, zoom=2.5, mapbox_style=\"carto-positron\")\n",
    "\n",
    "# Set title\n",
    "fig.update_layout(title=\"Real Estate Prices\")\n",
    "\n",
    "# Control dimensions\n",
    "fig.update_layout(\n",
    "    title=\"Real Estate Prices\",\n",
    "    title_x=0.5,  # Center title\n",
    "    title_font_size=24,  # Change title size\n",
    "    title_font_color=\"white\",  # Update title text color\n",
    "    paper_bgcolor=\"black\",  # Set background color\n",
    "    legend_font_color=\"white\",  # Set legend text color to white\n",
    "    font_color=\"white\"  # Set all font color to white\n",
    ")\n",
    "\n",
    "# Rename the display name of a column in the figure\n",
    "fig.update_traces(marker=dict(symbol='circle', opacity=0.8), name=\"Average Price\")\n",
    "\n",
    "# Control dimensions\n",
    "fig.update_layout(\n",
    "    autosize=False,\n",
    "    width=800,\n",
    "    height=600,\n",
    ")\n",
    "\n",
    "fig.show()"
   ]
  },
  {
   "cell_type": "code",
   "execution_count": 0,
   "metadata": {
    "application/vnd.databricks.v1+cell": {
     "cellMetadata": {
      "byteLimit": 2048000,
      "rowLimit": 10000
     },
     "inputWidgets": {},
     "nuid": "daec4b5d-1d02-4e73-9e3e-ff15741df5f2",
     "showTitle": false,
     "title": ""
    }
   },
   "outputs": [],
   "source": []
  }
 ],
 "metadata": {
  "application/vnd.databricks.v1+notebook": {
   "dashboards": [],
   "environmentMetadata": null,
   "language": "python",
   "notebookMetadata": {
    "mostRecentlyExecutedCommandWithImplicitDF": {
     "commandId": 1372188875201533,
     "dataframes": [
      "_sqldf"
     ]
    },
    "pythonIndentUnit": 2
   },
   "notebookName": "03_Txt_to_SQL_with_llama3",
   "widgets": {}
  }
 },
 "nbformat": 4,
 "nbformat_minor": 0
}
