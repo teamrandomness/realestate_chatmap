{
 "cells": [
  {
   "cell_type": "code",
   "execution_count": 0,
   "metadata": {
    "application/vnd.databricks.v1+cell": {
     "cellMetadata": {
      "byteLimit": 2048000,
      "rowLimit": 10000
     },
     "collapsed": true,
     "inputWidgets": {},
     "nuid": "fb17ce4e-e143-43a9-bd74-c514e34eef9d",
     "showTitle": false,
     "title": ""
    }
   },
   "outputs": [],
   "source": [
    "# %pip install transformers\n",
    "# %pip install torch\n",
    "# %pip install TensorFlow\n",
    "# %pip install flask\n",
    "# %pip install plotly\n",
    "%pip install PyPI"
   ]
  },
  {
   "cell_type": "code",
   "execution_count": 0,
   "metadata": {
    "application/vnd.databricks.v1+cell": {
     "cellMetadata": {
      "byteLimit": 2048000,
      "rowLimit": 10000
     },
     "inputWidgets": {},
     "nuid": "c6ee8cc9-51ef-45d7-8c3a-f5c7faf5745d",
     "showTitle": false,
     "title": ""
    }
   },
   "outputs": [],
   "source": [
    "import pandas as pd\n",
    "from pyspark.sql import SparkSession\n",
    "\n",
    "spark = SparkSession.builder.appName(\"RealEstate\").getOrCreate()\n",
    "\n",
    "# Load data\n",
    "real_estate_df = spark.sql(\n",
    "    \"\"\"\n",
    "    SELECT \n",
    "      to_date(TIMESTAMP) DATE_DAY,\n",
    "      CITY,\n",
    "      STATE,\n",
    "      CASE WHEN LEN(ZIPCODE) < 5 THEN lpad(ZIPCODE, 5, \"0\") ELSE ZIPCODE END AS ZIPCODE,\n",
    "      HOMESTATUS, \n",
    "      AVG(TRY_CAST(BEDROOMS AS DOUBLE)) AVERAGE_BEDROOMS,\n",
    "      AVG(TRY_CAST(BATHROOMS AS DOUBLE)) AVERAGE_BATHROOMS,\n",
    "      AVG(TRY_CAST(LONGITUDE AS DOUBLE)) LONGITUDE,\n",
    "      AVG(TRY_CAST(LATITUDE AS DOUBLE)) LATITUDE,\n",
    "      AVG(coalesce(CAST(PRICE AS DOUBLE), 0)) AS AVERAGE_PRICE\n",
    "    FROM `bright_data_real_estate_listings`.`datasets`.`zillow_properties`\n",
    "    GROUP BY ALL\n",
    "    \"\"\"\n",
    ")\n",
    "\n",
    "# spark.conf.set(\"spark.sql.execution.arrow.pyspark.enabled\", \"true\")\n",
    "\n",
    "# Data cleaning and preprocessing\n",
    "real_estate_df_clean = real_estate_df.dropna()  # Example: Drop rows with missing values\n"
   ]
  },
  {
   "cell_type": "code",
   "execution_count": 0,
   "metadata": {
    "application/vnd.databricks.v1+cell": {
     "cellMetadata": {
      "byteLimit": 2048000,
      "rowLimit": 10000
     },
     "inputWidgets": {},
     "nuid": "3ba044b6-bfd8-4e95-81f6-02bccb8d93ed",
     "showTitle": false,
     "title": ""
    }
   },
   "outputs": [],
   "source": [
    "display(real_estate_df_clean)"
   ]
  },
  {
   "cell_type": "code",
   "execution_count": 0,
   "metadata": {
    "application/vnd.databricks.v1+cell": {
     "cellMetadata": {
      "byteLimit": 2048000,
      "rowLimit": 10000
     },
     "inputWidgets": {},
     "nuid": "c7fcf165-24ff-40e1-87ab-32b93fbc694b",
     "showTitle": false,
     "title": ""
    }
   },
   "outputs": [],
   "source": [
    "import plotly.express as px\n",
    "\n",
    "# Example dataframe for plotting\n",
    "df_plot = real_estate_df_clean.toPandas()\n",
    "\n",
    "fig = px.scatter_mapbox(\n",
    "    df_plot,\n",
    "    lat=\"LATITUDE\",\n",
    "    lon=\"LONGITUDE\",\n",
    "    color=\"AVERAGE_PRICE\",\n",
    "    size=\"AVERAGE_PRICE\",\n",
    "    color_continuous_scale=px.colors.cyclical.IceFire,\n",
    "    size_max=20,\n",
    "    zoom=2.5,\n",
    "    mapbox_style=\"carto-positron\",\n",
    ")\n",
    "\n",
    "# Set title\n",
    "fig.update_layout(title=\"Real Estate Prices\")\n",
    "\n",
    "# Control dimensions\n",
    "fig.update_layout(\n",
    "    title=\"Real Estate Prices\",\n",
    "    title_x=0.5,  # Center title\n",
    "    title_font_size=24,  # Change title size\n",
    "    title_font_color=\"white\",  # Update title text color\n",
    "    paper_bgcolor=\"black\",  # Set background color\n",
    "    legend_font_color=\"white\",  # Set legend text color to white\n",
    "    font_color=\"white\",  # Set all font color to white\n",
    "    mapbox=dict(\n",
    "        center=dict(lat=40.7128, lon=-74.0060),  # Set center to New York City\n",
    "        zoom=10,  # Set zoom level\n",
    "    ),\n",
    ")\n",
    "\n",
    "# Rename the display name of a column in the figure\n",
    "fig.update_traces(marker=dict(symbol=\"circle\", opacity=0.8), name=\"Average Price\")\n",
    "\n",
    "# Control dimensions\n",
    "fig.update_layout(\n",
    "    autosize=False,\n",
    "    width=800,\n",
    "    height=600,\n",
    ")\n",
    "\n",
    "fig.show()"
   ]
  }
 ],
 "metadata": {
  "application/vnd.databricks.v1+notebook": {
   "dashboards": [],
   "environmentMetadata": null,
   "language": "python",
   "notebookMetadata": {
    "mostRecentlyExecutedCommandWithImplicitDF": {
     "commandId": 1372188875201645,
     "dataframes": [
      "_sqldf"
     ]
    },
    "pythonIndentUnit": 4
   },
   "notebookName": "04_Visualiaze_On_Map",
   "widgets": {}
  }
 },
 "nbformat": 4,
 "nbformat_minor": 0
}
